{
    "metadata": {
        "kernelspec": {
            "name": "python3",
            "display_name": "Python 3",
            "language": "python"
        }
    },
    "nbformat": 4,
    "nbformat_minor": 0,
    "cells": [
        {
            "attachments": {},
            "cell_type": "markdown",
            "metadata": {},
            "source": [
                "# Assignment 1 - House Prices\n",
                "\n",
                "### Due: Tuesday, April 6, 9:00 pm. The Coding portion is submitted on EdStem and the Concept portion is submitted on Gradescope.\n",
                "\n",
                "In this assignment we'll practice working with `pandas` `DataFrames` and train a linear regression model to predict house prices.\n",
                "\n",
                "Fill in the cells provided marked `TODO` with code to answer the questions. Answers should do the computation stated rather than writing in hard-coded values. So for example, if a problem asks you to compute the average age of people in a dataset, you should be writing Python code in this notebook to do the computation instead of plugging it into some calculator and saving the hard-coded answer in the variable. In other words, we should be able to run your code on a smaller/larger dataset and get correct answers for those datasets with your code.\n",
                "\n",
                "It is generally a good idea to restart the kernel and run all cells (especially before turning it in) to make sure your code runs correctly from start to finish.\n",
                "\n",
                "## Submitting\n",
                "\n",
                "To submit this coding portion on EdStem, press the \"Mark\" button on the bottom right of the screen. You can submit as many times as you want, and we will take your last one submitted when grading.\n",
                "\n",
                "Unlike HW0, we do not show you all the test cases we run on your code. The tests that you see each time you submit indicate whether or not the types of the values you computed match our expected types. We do not share whether or not your answer is correct before you submit."
            ]
        },
        {
            "cell_type": "code",
            "execution_count": 72,
            "metadata": {},
            "outputs": [],
            "source": [
                "# Conventionally people rename the pandas import to pd for brevity\n",
                "import pandas as pd"
            ]
        },
        {
            "cell_type": "code",
            "execution_count": 73,
            "metadata": {},
            "outputs": [
                {
                    "data": {
                        "text/html": "\u003cdiv\u003e\n\u003cstyle scoped\u003e\n    .dataframe tbody tr th:only-of-type {\n        vertical-align: middle;\n    }\n\n    .dataframe tbody tr th {\n        vertical-align: top;\n    }\n\n    .dataframe thead th {\n        text-align: right;\n    }\n\u003c/style\u003e\n\u003ctable border=\"1\" class=\"dataframe\"\u003e\n  \u003cthead\u003e\n    \u003ctr style=\"text-align: right;\"\u003e\n      \u003cth\u003e\u003c/th\u003e\n      \u003cth\u003eid\u003c/th\u003e\n      \u003cth\u003edate\u003c/th\u003e\n      \u003cth\u003eprice\u003c/th\u003e\n      \u003cth\u003ebedrooms\u003c/th\u003e\n      \u003cth\u003ebathrooms\u003c/th\u003e\n      \u003cth\u003esqft_living\u003c/th\u003e\n      \u003cth\u003esqft_lot\u003c/th\u003e\n      \u003cth\u003efloors\u003c/th\u003e\n      \u003cth\u003ewaterfront\u003c/th\u003e\n      \u003cth\u003eview\u003c/th\u003e\n      \u003cth\u003e...\u003c/th\u003e\n      \u003cth\u003egrade\u003c/th\u003e\n      \u003cth\u003esqft_above\u003c/th\u003e\n      \u003cth\u003esqft_basement\u003c/th\u003e\n      \u003cth\u003eyr_built\u003c/th\u003e\n      \u003cth\u003eyr_renovated\u003c/th\u003e\n      \u003cth\u003ezipcode\u003c/th\u003e\n      \u003cth\u003elat\u003c/th\u003e\n      \u003cth\u003elong\u003c/th\u003e\n      \u003cth\u003esqft_living15\u003c/th\u003e\n      \u003cth\u003esqft_lot15\u003c/th\u003e\n    \u003c/tr\u003e\n  \u003c/thead\u003e\n  \u003ctbody\u003e\n    \u003ctr\u003e\n      \u003cth\u003e0\u003c/th\u003e\n      \u003ctd\u003e7129300520\u003c/td\u003e\n      \u003ctd\u003e20141013T000000\u003c/td\u003e\n      \u003ctd\u003e221900\u003c/td\u003e\n      \u003ctd\u003e3\u003c/td\u003e\n      \u003ctd\u003e1.00\u003c/td\u003e\n      \u003ctd\u003e1180\u003c/td\u003e\n      \u003ctd\u003e5650\u003c/td\u003e\n      \u003ctd\u003e1.0\u003c/td\u003e\n      \u003ctd\u003e0\u003c/td\u003e\n      \u003ctd\u003e0\u003c/td\u003e\n      \u003ctd\u003e...\u003c/td\u003e\n      \u003ctd\u003e7\u003c/td\u003e\n      \u003ctd\u003e1180\u003c/td\u003e\n      \u003ctd\u003e0\u003c/td\u003e\n      \u003ctd\u003e1955\u003c/td\u003e\n      \u003ctd\u003e0\u003c/td\u003e\n      \u003ctd\u003e98178\u003c/td\u003e\n      \u003ctd\u003e47.5112\u003c/td\u003e\n      \u003ctd\u003e-122.257\u003c/td\u003e\n      \u003ctd\u003e1340\u003c/td\u003e\n      \u003ctd\u003e5650\u003c/td\u003e\n    \u003c/tr\u003e\n    \u003ctr\u003e\n      \u003cth\u003e1\u003c/th\u003e\n      \u003ctd\u003e6414100192\u003c/td\u003e\n      \u003ctd\u003e20141209T000000\u003c/td\u003e\n      \u003ctd\u003e538000\u003c/td\u003e\n      \u003ctd\u003e3\u003c/td\u003e\n      \u003ctd\u003e2.25\u003c/td\u003e\n      \u003ctd\u003e2570\u003c/td\u003e\n      \u003ctd\u003e7242\u003c/td\u003e\n      \u003ctd\u003e2.0\u003c/td\u003e\n      \u003ctd\u003e0\u003c/td\u003e\n      \u003ctd\u003e0\u003c/td\u003e\n      \u003ctd\u003e...\u003c/td\u003e\n      \u003ctd\u003e7\u003c/td\u003e\n      \u003ctd\u003e2170\u003c/td\u003e\n      \u003ctd\u003e400\u003c/td\u003e\n      \u003ctd\u003e1951\u003c/td\u003e\n      \u003ctd\u003e1991\u003c/td\u003e\n      \u003ctd\u003e98125\u003c/td\u003e\n      \u003ctd\u003e47.7210\u003c/td\u003e\n      \u003ctd\u003e-122.319\u003c/td\u003e\n      \u003ctd\u003e1690\u003c/td\u003e\n      \u003ctd\u003e7639\u003c/td\u003e\n    \u003c/tr\u003e\n    \u003ctr\u003e\n      \u003cth\u003e2\u003c/th\u003e\n      \u003ctd\u003e5631500400\u003c/td\u003e\n      \u003ctd\u003e20150225T000000\u003c/td\u003e\n      \u003ctd\u003e180000\u003c/td\u003e\n      \u003ctd\u003e2\u003c/td\u003e\n      \u003ctd\u003e1.00\u003c/td\u003e\n      \u003ctd\u003e770\u003c/td\u003e\n      \u003ctd\u003e10000\u003c/td\u003e\n      \u003ctd\u003e1.0\u003c/td\u003e\n      \u003ctd\u003e0\u003c/td\u003e\n      \u003ctd\u003e0\u003c/td\u003e\n      \u003ctd\u003e...\u003c/td\u003e\n      \u003ctd\u003e6\u003c/td\u003e\n      \u003ctd\u003e770\u003c/td\u003e\n      \u003ctd\u003e0\u003c/td\u003e\n      \u003ctd\u003e1933\u003c/td\u003e\n      \u003ctd\u003e0\u003c/td\u003e\n      \u003ctd\u003e98028\u003c/td\u003e\n      \u003ctd\u003e47.7379\u003c/td\u003e\n      \u003ctd\u003e-122.233\u003c/td\u003e\n      \u003ctd\u003e2720\u003c/td\u003e\n      \u003ctd\u003e8062\u003c/td\u003e\n    \u003c/tr\u003e\n    \u003ctr\u003e\n      \u003cth\u003e3\u003c/th\u003e\n      \u003ctd\u003e2487200875\u003c/td\u003e\n      \u003ctd\u003e20141209T000000\u003c/td\u003e\n      \u003ctd\u003e604000\u003c/td\u003e\n      \u003ctd\u003e4\u003c/td\u003e\n      \u003ctd\u003e3.00\u003c/td\u003e\n      \u003ctd\u003e1960\u003c/td\u003e\n      \u003ctd\u003e5000\u003c/td\u003e\n      \u003ctd\u003e1.0\u003c/td\u003e\n      \u003ctd\u003e0\u003c/td\u003e\n      \u003ctd\u003e0\u003c/td\u003e\n      \u003ctd\u003e...\u003c/td\u003e\n      \u003ctd\u003e7\u003c/td\u003e\n      \u003ctd\u003e1050\u003c/td\u003e\n      \u003ctd\u003e910\u003c/td\u003e\n      \u003ctd\u003e1965\u003c/td\u003e\n      \u003ctd\u003e0\u003c/td\u003e\n      \u003ctd\u003e98136\u003c/td\u003e\n      \u003ctd\u003e47.5208\u003c/td\u003e\n      \u003ctd\u003e-122.393\u003c/td\u003e\n      \u003ctd\u003e1360\u003c/td\u003e\n      \u003ctd\u003e5000\u003c/td\u003e\n    \u003c/tr\u003e\n    \u003ctr\u003e\n      \u003cth\u003e4\u003c/th\u003e\n      \u003ctd\u003e1954400510\u003c/td\u003e\n      \u003ctd\u003e20150218T000000\u003c/td\u003e\n      \u003ctd\u003e510000\u003c/td\u003e\n      \u003ctd\u003e3\u003c/td\u003e\n      \u003ctd\u003e2.00\u003c/td\u003e\n      \u003ctd\u003e1680\u003c/td\u003e\n      \u003ctd\u003e8080\u003c/td\u003e\n      \u003ctd\u003e1.0\u003c/td\u003e\n      \u003ctd\u003e0\u003c/td\u003e\n      \u003ctd\u003e0\u003c/td\u003e\n      \u003ctd\u003e...\u003c/td\u003e\n      \u003ctd\u003e8\u003c/td\u003e\n      \u003ctd\u003e1680\u003c/td\u003e\n      \u003ctd\u003e0\u003c/td\u003e\n      \u003ctd\u003e1987\u003c/td\u003e\n      \u003ctd\u003e0\u003c/td\u003e\n      \u003ctd\u003e98074\u003c/td\u003e\n      \u003ctd\u003e47.6168\u003c/td\u003e\n      \u003ctd\u003e-122.045\u003c/td\u003e\n      \u003ctd\u003e1800\u003c/td\u003e\n      \u003ctd\u003e7503\u003c/td\u003e\n    \u003c/tr\u003e\n  \u003c/tbody\u003e\n\u003c/table\u003e\n\u003cp\u003e5 rows × 21 columns\u003c/p\u003e\n\u003c/div\u003e",
                        "text/plain": "           id             date   price  bedrooms  bathrooms  sqft_living  \\\n0  7129300520  20141013T000000  221900         3       1.00         1180   \n1  6414100192  20141209T000000  538000         3       2.25         2570   \n2  5631500400  20150225T000000  180000         2       1.00          770   \n3  2487200875  20141209T000000  604000         4       3.00         1960   \n4  1954400510  20150218T000000  510000         3       2.00         1680   \n\n   sqft_lot  floors  waterfront  view  ...  grade  sqft_above  sqft_basement  \\\n0      5650     1.0           0     0  ...      7        1180              0   \n1      7242     2.0           0     0  ...      7        2170            400   \n2     10000     1.0           0     0  ...      6         770              0   \n3      5000     1.0           0     0  ...      7        1050            910   \n4      8080     1.0           0     0  ...      8        1680              0   \n\n   yr_built  yr_renovated  zipcode      lat     long  sqft_living15  \\\n0      1955             0    98178  47.5112 -122.257           1340   \n1      1951          1991    98125  47.7210 -122.319           1690   \n2      1933             0    98028  47.7379 -122.233           2720   \n3      1965             0    98136  47.5208 -122.393           1360   \n4      1987             0    98074  47.6168 -122.045           1800   \n\n   sqft_lot15  \n0        5650  \n1        7639  \n2        8062  \n3        5000  \n4        7503  \n\n[5 rows x 21 columns]"
                    },
                    "execution_count": 73,
                    "metadata": {},
                    "output_type": "execute_result"
                }
            ],
            "source": [
                "# Load in the data and preview it\n",
                "sales = pd.read_csv('home_data.csv') \n",
                "sales.head()"
            ]
        },
        {
            "attachments": {},
            "cell_type": "markdown",
            "metadata": {},
            "source": [
                "---\n",
                "# Exploring the data.\n",
                "This question asks you to explore the dataset we will be using. Answer the following three sentences by writing code to compute the dsecribed values in the given variables names. Note that Q1 has 3 sub-questions.\n",
                "\n",
                "## Q1) Exploring the data\n",
                "\n",
                "1. How many houses do we have in our data set? This should correspond to the number of rows in the dataset. Save the number of rows in a variable called `num_rows`.\n",
                "2. Which column are we trying to predict given the other features (i.e. what's our output `y`)? Save the column values in a variable called `y`.\n",
                "3. How many inputs do we have in total in the data set (i.e. what is the size of our input `x`)? Save the number of inputs in a variable called `num_inputs`.\n",
                "\n",
                "Each one of these questions should be answered in the next cells respectively.\n",
                "\n",
                "*Hint:* You can use `len()` to get the length of anything in Pyython. Note that when you use it on a DataFrame, it will give you the number of rows, not columns.\n",
                ""
            ]
        },
        {
            "cell_type": "code",
            "execution_count": 74,
            "metadata": {},
            "outputs": [],
            "source": [
                "### edTest(test_num_rows) ###\n",
                "num_rows = len(sales)\n",
                "# TODO"
            ]
        },
        {
            "cell_type": "code",
            "execution_count": 75,
            "metadata": {},
            "outputs": [],
            "source": [
                "### edTest(test_get_labels) ###\n",
                "y = sales.price\n",
                "# TODO "
            ]
        },
        {
            "cell_type": "code",
            "execution_count": 76,
            "metadata": {},
            "outputs": [],
            "source": [
                "### edTest(test_num_inputs) ###\n",
                "num_inputs = len(sales.columns) - 1\n",
                "# TODO"
            ]
        },
        {
            "attachments": {},
            "cell_type": "markdown",
            "metadata": {},
            "source": [
                "---\n",
                "## Q2) What is the average price of houses with 3 bedrooms?\n",
                "\n",
                "Compute the average price of houses in the dataset with 3 bedrooms. Save the result in `avg_price_3_bed`."
            ]
        },
        {
            "cell_type": "code",
            "execution_count": 77,
            "metadata": {},
            "outputs": [],
            "source": [
                "### edTest(test_avg_price_3_bed) ###\n",
                "avg_price_3_bed = sum(sales[sales.bedrooms == 3].price) / len(sales[sales.bedrooms == 3])\n",
                "# TODO "
            ]
        },
        {
            "attachments": {},
            "cell_type": "markdown",
            "metadata": {},
            "source": [
                "---\n",
                "## Q3) What fraction of the properties are have `sqft_living` between 2000-4000?\n",
                "\n",
                "Compute the fraction of properties with `sqft_living` between 2000 (inclusive) and 4000 (exclusive). Your answer should be stored in `percent_q3` and it should be a number between 0 and 1.\n",
                " "
            ]
        },
        {
            "cell_type": "code",
            "execution_count": 78,
            "metadata": {},
            "outputs": [],
            "source": [
                "### edTest(test_percent_q3) ###\n",
                "low = sales[sales.sqft_living \u003c 4000]\n",
                "high = low[low.sqft_living \u003e= 2000]\n",
                "percent_q3 = len(high) / num_rows\n",
                "# TODO "
            ]
        },
        {
            "attachments": {},
            "cell_type": "markdown",
            "metadata": {},
            "source": [
                "---\n",
                "# Training Linear Regression Models\n",
                "\n",
                "## Q4) Training a Linear Regression Model.\n",
                "\n",
                "We will now train a linear regression model to make useful predictions. Work through the steps below and then answer the following questions. Even though a lot of the code is pre-written, you should understand what it is doing! You may be asked to write some of this code on future assignments.\n",
                "\n",
                "First we split the data into a training set and a test set.\n",
                "\n",
                "**You should not modify the next two cells. Even though there is an `edTest` comment. The `edTest` comment is there to let us set up some state, and does no test any functionality. These cells need to be left as-is, otherwise it will potentially mess up future tests.**"
            ]
        },
        {
            "cell_type": "code",
            "execution_count": 79,
            "metadata": {},
            "outputs": [],
            "source": [
                "### edTest(test_setup_train_test_split) ###"
            ]
        },
        {
            "cell_type": "code",
            "execution_count": 80,
            "metadata": {},
            "outputs": [],
            "source": [
                "from sklearn.model_selection import train_test_split\n",
                "\n",
                "# Split data into 80% train and 20% test\n",
                "train_data, test_data = train_test_split(sales, test_size=0.2)"
            ]
        },
        {
            "attachments": {},
            "cell_type": "markdown",
            "metadata": {},
            "source": [
                "Lets plot some of the data to get a sense of what we are dealing with. You do not need to understand every part of the plotting code here, but plotting is a good skill in Python so it will help to read over this."
            ]
        },
        {
            "cell_type": "code",
            "execution_count": 81,
            "metadata": {},
            "outputs": [
                {
                    "data": {
                        "text/plain": "Text(0, 0.5, 'Price')"
                    },
                    "execution_count": 81,
                    "metadata": {},
                    "output_type": "execute_result"
                },
                {
                    "data": {
                        "image/png": "[encoded data removed]",
                        "text/plain": "\u003cFigure size 432x288 with 1 Axes\u003e"
                    },
                    "metadata": {
                        "needs_background": "light"
                    },
                    "output_type": "display_data"
                }
            ],
            "source": [
                "import matplotlib.pyplot as plt\n",
                "%matplotlib inline\n",
                "\n",
                "# Plot sqft_living vs housing price for the train and test da\n",
                "plt.scatter(train_data['sqft_living'], train_data['price'], marker='+', label='Train')\n",
                "plt.scatter(test_data['sqft_living'], test_data['price'], marker='.', label='Test')\n",
                "\n",
                "# Code to customize the axis labels\n",
                "plt.legend()\n",
                "plt.xlabel('Sqft Living')\n",
                "plt.ylabel('Price')"
            ]
        },
        {
            "attachments": {},
            "cell_type": "markdown",
            "metadata": {},
            "source": [
                "For this problem, we will look at using two sets of features derived from the data inputs. The basic set of features only contains a few data inputs while the advanced features contain them and more."
            ]
        },
        {
            "cell_type": "code",
            "execution_count": 82,
            "metadata": {},
            "outputs": [],
            "source": [
                "basic_features = ['bedrooms', 'bathrooms', 'sqft_living', 'sqft_lot', 'floors', 'zipcode']"
            ]
        },
        {
            "cell_type": "code",
            "execution_count": 83,
            "metadata": {},
            "outputs": [],
            "source": [
                "advanced_features = basic_features + [\n",
                "    'condition',      # condition of the house\n",
                "    'grade',          # measure of qality of construction\n",
                "    'waterfront',     # waterfront property \n",
                "    'view',           # type of view\n",
                "    'sqft_above',     # square feet above ground\n",
                "    'sqft_basement',  # square feet in basementab\n",
                "    'yr_built',       # the year built\n",
                "    'yr_renovated',   # the year renovated\n",
                "    'lat',            # the longitude of the parcel\n",
                "    'long',           # the latitide of the parcel\n",
                "    'sqft_living15',  # average sq.ft. of 15 nearest neighbors \n",
                "    'sqft_lot15',     # average lot size of 15 nearest neighbors \n",
                "]"
            ]
        },
        {
            "attachments": {},
            "cell_type": "markdown",
            "metadata": {},
            "source": [
                "---\n",
                "In the following cell, you should train two linear regression models\n",
                "* The first should be saved in a variable called `basic_model` that only uses the basic features\n",
                "* The seconod should be saved in a variable called `advanced_model` that uses the advanced features\n",
                "\n",
                "You'll need to look through the [LinearRegression](https://scikit-learn.org/stable/modules/generated/sklearn.linear_model.LinearRegression.html) class from scikit-learn to look into how to train a regression model for this task. In particular, make sure you check out the `fit` function.\n",
                "\n",
                "Notice that our goal is to eventually make a prediction of how the model will do in the future. You should keep this in mind when deciding which datasets to use where."
            ]
        },
        {
            "cell_type": "code",
            "execution_count": 84,
            "metadata": {},
            "outputs": [],
            "source": [
                "### edTest(test_train_models) ###\n",
                "from sklearn.linear_model import LinearRegression\n",
                "\n",
                "train_X_basic = train_data[basic_features]\n",
                "train_y_basic = train_data.price\n",
                "basic_model = LinearRegression().fit(train_X_basic, train_y_basic)\n",
                "\n",
                "train_X_advanced = train_data[advanced_features]\n",
                "train_y_advanced = train_data.price\n",
                "advanced_model = LinearRegression().fit(train_X_advanced, train_y_advanced)\n",
                "# TODO"
            ]
        },
        {
            "attachments": {},
            "cell_type": "markdown",
            "metadata": {},
            "source": [
                "Now, we will evaluate the models' predictions to see how they perform.\n",
                "\n",
                "---\n",
                "# Root Mean Suare Error (RMSE) of trained predictors\n",
                "\n",
                "## Q5) What are your Root Mean Squared Errors (RMSE) on your training data using the basic model and the advanced model?\n",
                "\n",
                "\n",
                "Use the models you trained in last section to predict what it thinks the values for the data points should be. You can look at the documentation from the `LinearRegression` model to see how to make predictions. \n",
                "\n",
                "The RMSE is another commonly reported metric used for regression models. The RMSE is similar to RSS but is modified slightly to scale the number down. The RMSE is defined as $$RMSE = \\sqrt{\\frac{1}{n}RSS}$$\n",
                "\n",
                "where the thing inside the square root is refered to as the Mean Square Error (MSE). You will also need to use the `mean_squared_error` function from sklearn (documentation [here](https://scikit-learn.org/stable/modules/generated/sklearn.metrics.mean_squared_error.html#sklearn.metrics.mean_squared_error)) which you'll have to import as well. \n",
                "\n",
                "**Save your result in variables named `train_rmse_basic` and `train_rmse_advanced` respectively.**\n",
                "\n",
                "**Remember, we want you to report the square root of the MSE numbers**."
            ]
        },
        {
            "cell_type": "code",
            "execution_count": 85,
            "metadata": {},
            "outputs": [],
            "source": [
                "### edTest(test_train_rmse) ###\n",
                "from sklearn.metrics import mean_squared_error\n",
                "\n",
                "train_y_basic_pred = basic_model.predict(train_X_basic)\n",
                "train_rmse_basic = mean_squared_error(train_y_basic, train_y_basic_pred) ** 0.5\n",
                "\n",
                "train_y_advanced_pred = advanced_model.predict(train_X_advanced)\n",
                "train_rmse_advanced = mean_squared_error(train_y_advanced, train_y_advanced_pred) ** 0.5\n",
                "# TODO"
            ]
        },
        {
            "attachments": {},
            "cell_type": "markdown",
            "metadata": {},
            "source": [
                "---\n",
                "## Q6) What are your RMSE errors on your test data using the basic model and then the advanced model?\n",
                "\n",
                "Similar to the last problem, but compute the test RMSE. Store your results in `test_rmse_basic` and `test_rmse_advanced`."
            ]
        },
        {
            "cell_type": "code",
            "execution_count": 86,
            "metadata": {},
            "outputs": [],
            "source": [
                "### edTest(test_test_rmse) ###\n",
                "test_X_basic = test_data[basic_features]\n",
                "test_y_basic = test_data.price\n",
                "\n",
                "test_X_advanced = test_data[advanced_features]\n",
                "test_y_advanced = test_data.price\n",
                "\n",
                "test_y_basic_pred = basic_model.predict(test_X_basic)\n",
                "test_rmse_basic = mean_squared_error(test_y_basic, test_y_basic_pred) ** 0.5\n",
                "\n",
                "test_y_advanced_pred = advanced_model.predict(test_X_advanced)\n",
                "test_rmse_advanced = mean_squared_error(test_y_advanced, test_y_advanced_pred) ** 0.5\n",
                "# TODO"
            ]
        },
        {
            "attachments": {},
            "cell_type": "markdown",
            "metadata": {},
            "source": [
                "---\n",
                "## Q7) Which model would you choose and why?\n",
                "These questions do not need any code to answer them. Instead, save a variable with the specified name with a string of the specified option.\n",
                "\n",
                "\n",
                "### Q7.1) Which model would you choose?\n",
                "\n",
                "Ignore the fact that we do not have a validation set for this assignment (we will get to that in the next assignment). Which model do you think would perform better in the future?\n",
                "\n",
                "* a) Model with the basic features\n",
                "* b) Model with the advanced features\n",
                "\n",
                "Save your result in a variable named `q7_1`. For example, if your anwer is option a, write \n",
                "\n",
                "```\n",
                "q7_1 = 'a'\n",
                "```\n",
                ""
            ]
        },
        {
            "cell_type": "code",
            "execution_count": 87,
            "metadata": {},
            "outputs": [],
            "source": [
                "### edTest(test_q7_1) ###\n",
                "q7_1 = 'b'\n",
                "# TODO"
            ]
        },
        {
            "attachments": {},
            "cell_type": "markdown",
            "metadata": {},
            "source": [
                "### Q7.2) Why?\n",
                "\n",
                "Same as before, select on one option to describe why you would select the model in the previous question. Save your result as a string in a variable named `q7_2`.\n",
                "\n",
                "* a) It has higher training error\n",
                "* b) It uses more features\n",
                "* c) It has lower test error\n",
                "* d) It has lower training error\n",
                "* e) It has higher test error"
            ]
        },
        {
            "cell_type": "code",
            "execution_count": 88,
            "metadata": {},
            "outputs": [],
            "source": [
                "### edTest(test_q7_2) ###\n",
                "q7_2 = 'c'\n",
                "# TODO"
            ]
        },
        {
            "attachments": {},
            "cell_type": "markdown",
            "metadata": {},
            "source": [
                "# Concept Portion\n",
                "Make sure you also complete the concept portion of this assignment before the due date."
            ]
        },
        {
            "attachments": {},
            "cell_type": "markdown",
            "metadata": {},
            "source": [
                "\u003e Copyright ©2020 Emily Fox and Hunter Schafer.  All rights reserved.  Permission is hereby granted to students registered for University of Washington CSE/STAT 416 for use solely during Spring Quarter 2021 for purposes of the course.  No other use, copying, distribution, or modification is permitted without prior written consent. Copyrights for third-party components of this work must be honored.  Instructors interested in reusing these course materials should contact the author."
            ]
        }
    ]
}
