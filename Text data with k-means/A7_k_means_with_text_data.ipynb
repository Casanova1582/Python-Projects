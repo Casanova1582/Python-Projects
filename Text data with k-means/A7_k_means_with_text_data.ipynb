{
    "metadata": {
        "kernelspec": {
            "name": "python3",
            "display_name": "Python 3",
            "language": "python"
        }
    },
    "nbformat": 4,
    "nbformat_minor": 0,
    "cells": [
        {
            "attachments": {},
            "cell_type": "markdown",
            "metadata": {},
            "source": [
                "# Assignment 7 - Implementing k-means with Text Data\n",
                "\n",
                "### Due: Tuesday, May 18 at 9:00 pm. Coding Portion on EdStem and Concept on Gradescope\n",
                "\n",
                "In this assignment you will implement the k-means algorithm in the specific setting of clustering text documents, but the algorithm is general to any setting. When properly executed, clustering uncovers valuable insights from a set of unlabeled documents. The assignment uses the `numpy` library for manipulating the data arrays. See [this tutorial](https://numpy.org/doc/stable/user/quickstart.html) for more information on numpy.\n",
                "\n",
                "In this assignment, you will practice:\n",
                "\n",
                "* Cluster Wikipedia documents using k-means\n",
                "* Explore the role of random initialization on the quality of the clustering\n",
                "* Explore how results differ after changing the number of clusters\n",
                "* Evaluate clustering, both quantitatively and qualitatively\n",
                "\n",
                "Fill in the cells provided marked `TODO` with code to answer the questions. **Unless otherwise noted, every answer you submit should have code that clearly shows the answer in the output.** Answers submitted that do not have associated code that shows the answer may not be accepted for credit. \n",
                "\n",
                "**Make sure to restart the kernel and run all cells** (especially before turning it in) to make sure your code runs correctly. Answer the questions on Gradescope and make sure to download this file once you've finished the assignment and upload it to Canvas as well.\n",
                "\n",
                "\u003e Copyright ©2021 Emily Fox and Hunter Schafer.  All rights reserved.  Permission is hereby granted to students registered for University of Washington CSE/STAT 416 for use solely during Spring Quarter 2021 for purposes of the course.  No other use, copying, distribution, or modification is permitted without prior written consent. Copyrights for third-party components of this work must be honored.  Instructors interested in reusing these course materials should contact the author.\n",
                "\n",
                "---"
            ]
        },
        {
            "cell_type": "code",
            "execution_count": 3,
            "metadata": {},
            "outputs": [],
            "source": [
                "import matplotlib.pyplot as plt\n",
                "import numpy as np\n",
                "import pandas as pd\n",
                "\n",
                "from scipy.sparse import csr_matrix\n",
                "\n",
                "%matplotlib inline"
            ]
        },
        {
            "attachments": {},
            "cell_type": "markdown",
            "metadata": {},
            "source": [
                "# Load data, Extract features"
            ]
        },
        {
            "cell_type": "code",
            "execution_count": 4,
            "metadata": {},
            "outputs": [
                {
                    "data": {
                        "text/html": "\u003cdiv\u003e\n\u003cstyle scoped\u003e\n    .dataframe tbody tr th:only-of-type {\n        vertical-align: middle;\n    }\n\n    .dataframe tbody tr th {\n        vertical-align: top;\n    }\n\n    .dataframe thead th {\n        text-align: right;\n    }\n\u003c/style\u003e\n\u003ctable border=\"1\" class=\"dataframe\"\u003e\n  \u003cthead\u003e\n    \u003ctr style=\"text-align: right;\"\u003e\n      \u003cth\u003e\u003c/th\u003e\n      \u003cth\u003eURI\u003c/th\u003e\n      \u003cth\u003ename\u003c/th\u003e\n      \u003cth\u003etext\u003c/th\u003e\n    \u003c/tr\u003e\n  \u003c/thead\u003e\n  \u003ctbody\u003e\n    \u003ctr\u003e\n      \u003cth\u003e0\u003c/th\u003e\n      \u003ctd\u003e\u0026lt;http://dbpedia.org/resource/Mauno_J%C3%A4rvel...\u003c/td\u003e\n      \u003ctd\u003eMauno J%C3%A4rvel%C3%A4\u003c/td\u003e\n      \u003ctd\u003emauno jrvel born 25 november 1949 in kaustinen...\u003c/td\u003e\n    \u003c/tr\u003e\n    \u003ctr\u003e\n      \u003cth\u003e1\u003c/th\u003e\n      \u003ctd\u003e\u0026lt;http://dbpedia.org/resource/David_W._Jourdan\u0026gt;\u003c/td\u003e\n      \u003ctd\u003eDavid W. Jourdan\u003c/td\u003e\n      \u003ctd\u003edavid walter jourdan born december 5 1954 is a...\u003c/td\u003e\n    \u003c/tr\u003e\n    \u003ctr\u003e\n      \u003cth\u003e2\u003c/th\u003e\n      \u003ctd\u003e\u0026lt;http://dbpedia.org/resource/Patrick_Roach\u0026gt;\u003c/td\u003e\n      \u003ctd\u003ePatrick Roach\u003c/td\u003e\n      \u003ctd\u003epatrick roach born march 4 1969 is a canadian ...\u003c/td\u003e\n    \u003c/tr\u003e\n    \u003ctr\u003e\n      \u003cth\u003e3\u003c/th\u003e\n      \u003ctd\u003e\u0026lt;http://dbpedia.org/resource/Louis_Sauer\u0026gt;\u003c/td\u003e\n      \u003ctd\u003eLouis Sauer\u003c/td\u003e\n      \u003ctd\u003elouis lou sauer aka louis edward sauer born 19...\u003c/td\u003e\n    \u003c/tr\u003e\n    \u003ctr\u003e\n      \u003cth\u003e4\u003c/th\u003e\n      \u003ctd\u003e\u0026lt;http://dbpedia.org/resource/Marty_Keough\u0026gt;\u003c/td\u003e\n      \u003ctd\u003eMarty Keough\u003c/td\u003e\n      \u003ctd\u003erichard martin keough born april 14 1934 in oa...\u003c/td\u003e\n    \u003c/tr\u003e\n  \u003c/tbody\u003e\n\u003c/table\u003e\n\u003c/div\u003e",
                        "text/plain": "                                                 URI                     name  \\\n0  \u003chttp://dbpedia.org/resource/Mauno_J%C3%A4rvel...  Mauno J%C3%A4rvel%C3%A4   \n1     \u003chttp://dbpedia.org/resource/David_W._Jourdan\u003e         David W. Jourdan   \n2        \u003chttp://dbpedia.org/resource/Patrick_Roach\u003e            Patrick Roach   \n3          \u003chttp://dbpedia.org/resource/Louis_Sauer\u003e              Louis Sauer   \n4         \u003chttp://dbpedia.org/resource/Marty_Keough\u003e             Marty Keough   \n\n                                                text  \n0  mauno jrvel born 25 november 1949 in kaustinen...  \n1  david walter jourdan born december 5 1954 is a...  \n2  patrick roach born march 4 1969 is a canadian ...  \n3  louis lou sauer aka louis edward sauer born 19...  \n4  richard martin keough born april 14 1934 in oa...  "
                    },
                    "execution_count": 4,
                    "metadata": {},
                    "output_type": "execute_result"
                }
            ],
            "source": [
                "wiki = pd.read_csv('people_wiki.csv')\n",
                "wiki.head()"
            ]
        },
        {
            "attachments": {},
            "cell_type": "markdown",
            "metadata": {},
            "source": [
                "To work with text data, we must first convert the documents into numerical features. Like Assignment 3, let's extract TF-IDF features for each article."
            ]
        },
        {
            "cell_type": "code",
            "execution_count": 5,
            "metadata": {},
            "outputs": [],
            "source": [
                "from sklearn.feature_extraction.text import TfidfVectorizer\n",
                "\n",
                "vectorizer = TfidfVectorizer(max_df=0.95)  # ignore words with very high doc frequency\n",
                "tf_idf = vectorizer.fit_transform(wiki['text'])\n",
                "words = vectorizer.get_feature_names()"
            ]
        },
        {
            "attachments": {},
            "cell_type": "markdown",
            "metadata": {},
            "source": [
                "Since most documents don't contain every word, many of the TF-IDF entries will be 0. Representing the TF-IDF matrix as a `numpy` matrix will require a lot of unnecessary storage to keep track of all those 0. SciPy provides the idea of a \"sparse matrix\" that only represents the non-zero entries of a matrix to save space. Externally, you treat it just like a numpy `matrix` but it takes up less storage."
            ]
        },
        {
            "cell_type": "code",
            "execution_count": 6,
            "metadata": {},
            "outputs": [
                {
                    "data": {
                        "text/plain": "(5907, 112801)"
                    },
                    "execution_count": 6,
                    "metadata": {},
                    "output_type": "execute_result"
                }
            ],
            "source": [
                "tf_idf = csr_matrix(tf_idf)\n",
                "\n",
                "tf_idf.shape"
            ]
        },
        {
            "attachments": {},
            "cell_type": "markdown",
            "metadata": {},
            "source": [
                "The above matrix contains a TF-IDF score for each of the 5907 pages in the data set and each of the 112801 unique words. You can treat it like any matrix of data but internally it is space-efficient since it knows not to store the zero word counts."
            ]
        },
        {
            "attachments": {},
            "cell_type": "markdown",
            "metadata": {},
            "source": [
                "# Normalize all vectors"
            ]
        },
        {
            "attachments": {},
            "cell_type": "markdown",
            "metadata": {},
            "source": [
                "As discussed in the previous assignment, Euclidean distance can be a poor metric of similarity between documents, as it unfairly penalizes long articles. For a reasonable assessment of similarity, we should disregard the length information and use length-agnostic metrics, such as cosine distance.\n",
                "\n",
                "The k-means algorithm does not directly work with cosine distance, so we take an alternative route to remove length information: we normalize all vectors to be unit length. It turns out that Euclidean distance closely mimics cosine distance when all vectors are unit length. In particular, the squared Euclidean distance between any two vectors of length one is directly proportional to their cosine distance.\n",
                "\n",
                "---\n",
                "\n",
                "### Optional: Justification\n",
                "This section has some optional background material as to why normalizing makes sense here. You can skip down to the next line break if you don't want to read this.\n",
                "\n",
                "We can prove this as follows. Let $\\mathbf{x}$ and $\\mathbf{y}$ be normalized vectors, i.e. unit vectors, so that $\\|\\mathbf{x}\\|=\\|\\mathbf{y}\\|=1$. Write the squared Euclidean distance as the dot product of $(\\mathbf{x} - \\mathbf{y})$ to itself:\n",
                "\n",
                "$$\\begin{align*}\n",
                "\\|\\mathbf{x} - \\mathbf{y}\\|_2^2 \u0026= (\\mathbf{x} - \\mathbf{y})^T(\\mathbf{x} - \\mathbf{y}) \u0026 \\text{(def of L2 norm)}\\\\\n",
                "                              \u0026= (\\mathbf{x}^T \\mathbf{x}) - 2(\\mathbf{x}^T \\mathbf{y}) + (\\mathbf{y}^T \\mathbf{y}) \u0026 \\text{(FOIL expression)}\\\\\n",
                "                              \u0026= \\|\\mathbf{x}\\|_2^2 - 2(\\mathbf{x}^T \\mathbf{y}) + \\|\\mathbf{y}\\|_2^2 \u0026 \\text{(def of L2 norm)}\\\\\n",
                "                              \u0026= 2 - 2(\\mathbf{x}^T \\mathbf{y}) \u0026 \\text{($\\mathbf{x}$ and $\\mathbf{y}$ are length 1)}\\\\\n",
                "                              \u0026= 2(1 - (\\mathbf{x}^T \\mathbf{y}))\\\\\n",
                "                              \u0026= 2\\left(1 - \\frac{\\mathbf{x}^T \\mathbf{y}}{\\|\\mathbf{x}\\|_2\\|\\mathbf{y}\\|_2}\\right) \u0026 \\text{(Dividing by 1 doesn't change value)}\\\\\n",
                "                              \u0026= 2 \\cdot cosine\\_distance(\\mathbf{x}, \\mathbf{y})\n",
                "\\end{align*}$$\n",
                "\n",
                "This tells us that two **unit vectors** that are close in Euclidean distance are also close in cosine distance. Thus, the k-means algorithm (which naturally uses Euclidean distances) on normalized vectors will produce the same results as clustering using cosine distance as a distance metric.\n",
                "\n",
                "*End optional section*.\n",
                "\n",
                "---\n",
                "We import the [`normalize()` function](http://scikit-learn.org/stable/modules/generated/sklearn.preprocessing.normalize.html) from scikit-learn to normalize all vectors to unit length."
            ]
        },
        {
            "cell_type": "code",
            "execution_count": 7,
            "metadata": {},
            "outputs": [
                {
                    "data": {
                        "text/plain": "\u003c5907x112801 sparse matrix of type '\u003cclass 'numpy.float64'\u003e'\n\twith 993501 stored elements in Compressed Sparse Row format\u003e"
                    },
                    "execution_count": 7,
                    "metadata": {},
                    "output_type": "execute_result"
                }
            ],
            "source": [
                "from sklearn.preprocessing import normalize\n",
                "tf_idf = normalize(tf_idf)\n",
                "tf_idf"
            ]
        },
        {
            "attachments": {},
            "cell_type": "markdown",
            "metadata": {},
            "source": [
                "# Implement k-means"
            ]
        },
        {
            "attachments": {},
            "cell_type": "markdown",
            "metadata": {},
            "source": [
                "The bulk of this assignment will be implementing k-means. We will tackle it in parts to make it manageable.\n",
                "\n",
                "First, we choose an initial set of centroids. A common practice is to choose randomly from the data points.\n",
                "\n",
                "**Note:** We specify a seed here, so that everyone gets the same answer. In practice, we highly recommend to use different seeds every time (for instance, by using the current timestamp)."
            ]
        },
        {
            "cell_type": "code",
            "execution_count": 8,
            "metadata": {},
            "outputs": [],
            "source": [
                "def get_initial_centroids(data, k, seed=None):\n",
                "    \"\"\"\n",
                "    Randomly choose k data points as initial centroids\n",
                "    \"\"\"\n",
                "    if seed is not None: # useful for obtaining consistent results\n",
                "        np.random.seed(seed)\n",
                "        \n",
                "    n = data.shape[0] # number of data points\n",
                "        \n",
                "    # Pick K indices from range [0, n).\n",
                "    rand_indices = np.random.randint(0, n, k)\n",
                "    \n",
                "    # Keep centroids as dense format, as many entries will be nonzero due to averaging.\n",
                "    # As long as at least one document in a cluster contains a word,\n",
                "    # it will carry a nonzero weight in the TF-IDF vector of the centroid.\n",
                "    centroids = data[rand_indices,:].toarray()\n",
                "    \n",
                "    return centroids"
            ]
        },
        {
            "attachments": {},
            "cell_type": "markdown",
            "metadata": {},
            "source": [
                "### k-means Algorithm\n",
                "After initialization, the k-means algorithm iterates between the following two steps:\n",
                "1. Assign each data point to the closest centroid. $$z_i \\gets \\mathrm{argmin}_j \\|\\mathbf{\\mu}_j - \\mathbf{x}_i\\|^2$$\n",
                "2. Revise centroids as the mean of the assigned data points. $$\\mathbf{\\mu}_j \\gets \\frac{1}{n_j}\\sum_{i:z_i=j} \\mathbf{x}_i$$"
            ]
        },
        {
            "attachments": {},
            "cell_type": "markdown",
            "metadata": {},
            "source": [
                "In pseudocode, we iteratively do the following:\n",
                "```python\n",
                "cluster_assignment = assign_clusters(data, centroids)\n",
                "centroids = revise_centroids(data, k, cluster_assignment)\n",
                "```"
            ]
        },
        {
            "attachments": {},
            "cell_type": "markdown",
            "metadata": {},
            "source": [
                "## Assigning clusters"
            ]
        },
        {
            "attachments": {},
            "cell_type": "markdown",
            "metadata": {},
            "source": [
                "How do we implement Step 1 of the main k-means loop above? First we import `pairwise_distances` function from scikit-learn, which calculates Euclidean distances between rows of given arrays. See [this documentation](https://scikit-learn.org/stable/modules/generated/sklearn.metrics.pairwise.paired_distances.html) for more information.\n",
                "\n",
                "For the sake of demonstration, let's look at documents 100 through 102 as query documents and compute the distances between each of these documents and every other document in the corpus. In the k-means algorithm, we will have to compute pairwise distances between the set of centroids and the set of documents."
            ]
        },
        {
            "cell_type": "code",
            "execution_count": 9,
            "metadata": {},
            "outputs": [
                {
                    "name": "stdout",
                    "output_type": "stream",
                    "text": "[[1.39996239 1.39958932]\n [1.40386156 1.39754968]\n [1.38421176 1.39682604]\n ...\n [1.40562888 1.39024794]\n [1.39673862 1.38306708]\n [1.40872806 1.40250208]]\n"
                }
            ],
            "source": [
                "from sklearn.metrics import pairwise_distances\n",
                "\n",
                "# Get the TF-IDF vectors for documents 100 through 102.\n",
                "queries = tf_idf[100:102,:]\n",
                "\n",
                "# Compute pairwise distances from every data point to each query vector.\n",
                "dist = pairwise_distances(tf_idf, queries, metric='euclidean')\n",
                "print(dist)"
            ]
        },
        {
            "attachments": {},
            "cell_type": "markdown",
            "metadata": {},
            "source": [
                "More formally, `dist[i,j]` is assigned the distance between the `i`th row of `X` (i.e., `X[i,:]`) and the `j`th row of `Y` (i.e., `Y[j,:]`)."
            ]
        },
        {
            "attachments": {},
            "cell_type": "markdown",
            "metadata": {},
            "source": [
                "## 🔍 **Question 1** Computing Distances\n",
                "\n",
                "To test your understanding of how this code works, in the cell below write practice code that does the following tasks\n",
                "\n",
                "* Initializes 3 centroids that are the first 3 rows of `tf_idf`\n",
                "* Compute the distances between all the points in `tf_idf` and the 3 centroids. The result should be a matrix with shape `(5907, 3)`. Store this in a variable called `distances`.\n",
                "* Use `distances` to find the distance between the row of `tf_idf` with index 430 to the second centroid (index 1). Store this value in a variable called `dist`."
            ]
        },
        {
            "cell_type": "code",
            "execution_count": 53,
            "metadata": {},
            "outputs": [],
            "source": [
                "### edTest(test_q1_computing_distances) ###\n",
                "\n",
                "# TODO Fill out this cell\n",
                "c0 = tf_idf[0:3,:]\n",
                "distances = pairwise_distances(tf_idf, c0, metric='euclidean')\n",
                "dist = distances[430, 1]\n",
                ""
            ]
        },
        {
            "attachments": {},
            "cell_type": "markdown",
            "metadata": {},
            "source": [
                "## 🔍 **Question 2** Find closest centroid\n",
                "\n",
                "Next, given the pairwise distances, we take the minimum of the distances for each data point. Fittingly, NumPy provides an `argmin` function. See [this documentation](http://docs.scipy.org/doc/numpy-1.10.1/reference/generated/numpy.argmin.html) for details. After reading the documentation, in the cell below, write code to produce a 1D array whose $i^{th}$ entry indicates the centroid index that is the closest to the $i^{th}$ data point.\n",
                "\n",
                "Use the list of distances from the previous question. Following the theme of this case study, we will judge whether the clustering makes sense in the context of document analysis. Save this array as `closest_cluster`.\n",
                "\n",
                "As a note, it would be very slow to compute if you do not use the `argmin`. If you want your notebook to run in a reasonable amount of time, you will need to use the `argmin` function.\n",
                "\n",
                "*Hint:* the resulting array should be as long as the number of data points."
            ]
        },
        {
            "cell_type": "code",
            "execution_count": 54,
            "metadata": {},
            "outputs": [
                {
                    "data": {
                        "text/plain": "array([0., 1., 2., ..., 2., 2., 2.])"
                    },
                    "execution_count": 54,
                    "metadata": {},
                    "output_type": "execute_result"
                }
            ],
            "source": [
                "### edTest(test_q2_closest_centroid) ###\n",
                "\n",
                "# TODO Fill out this cell\n",
                "closest_cluster = []\n",
                "for i in np.arange(distances.shape[0]):\n",
                "    closest_cluster = np.append(closest_cluster, (np.argmin(distances[i, :])))\n",
                "closest_cluster\n",
                ""
            ]
        },
        {
            "attachments": {},
            "cell_type": "markdown",
            "metadata": {},
            "source": [
                "## 🔍 **Question 3** Assign Clusters\n",
                "\n",
                "Now that we have completed components of the Step 1 code, let's put it together in a single function that takes a dataset and centroids and assigns each row to the closest centroid.Now we are ready to fill in the blanks the function `assign_clusters(data, centroids)`. "
            ]
        },
        {
            "cell_type": "code",
            "execution_count": 19,
            "metadata": {},
            "outputs": [],
            "source": [
                "### edTest(test_q3_assign_clusters) ###\n",
                "\n",
                "# TODO Complete this function\n",
                "def assign_clusters(data, centroids):\n",
                "    \"\"\"\n",
                "    Parameters:  \n",
                "      - data      - is an np.array of float values of length n.  \n",
                "      - centroids - is an np.array of float values of length k.\n",
                "\n",
                "    Returns  \n",
                "      -  A np.array of length n where the ith index represents which centroid \n",
                "         data[i] was assigned to. The assignments range between the values 0, ..., k-1.\n",
                "    \"\"\"\n",
                "    # TODO Implement this function\n",
                "    distances = pairwise_distances(data, centroids, metric='euclidean')\n",
                "    closest_cluster = []\n",
                "    for i in np.arange(distances.shape[0]):\n",
                "        closest_cluster = np.append(closest_cluster, (np.argmin(distances[i, :])))\n",
                "    return closest_cluster.astype(int)"
            ]
        },
        {
            "attachments": {},
            "cell_type": "markdown",
            "metadata": {},
            "source": [
                "# Revising clusters\n",
                "\n",
                "## Numpy Tutorial\n",
                "Let's turn to Step 2 of the k-means algorithm, where we compute the new centroids given the current cluster assignments. \n",
                "\n",
                "SciPy and NumPy arrays allow for filtering via Boolean masks. For instance, we filter all data points that are assigned to cluster 0 by writing\n",
                "\n",
                "```python\n",
                "data[cluster_assignment == 0, :]\n",
                "```\n",
                "\n",
                "To develop intuition about filtering, let's look at a small example consisting of 3 data points and 2 clusters."
            ]
        },
        {
            "cell_type": "code",
            "execution_count": 20,
            "metadata": {},
            "outputs": [],
            "source": [
                "data = np.array([[1., 2., 0.],\n",
                "                 [0., 0., 0.],\n",
                "                 [2., 2., 0.]])\n",
                "centroids = np.array([[0.5, 0.5, 0.],\n",
                "                      [0., -0.5, 0.]])"
            ]
        },
        {
            "attachments": {},
            "cell_type": "markdown",
            "metadata": {},
            "source": [
                "Let's assign these data points to the closest centroid using the function you wrote before."
            ]
        },
        {
            "cell_type": "code",
            "execution_count": 21,
            "metadata": {},
            "outputs": [
                {
                    "data": {
                        "text/plain": "array([0, 1, 0])"
                    },
                    "execution_count": 21,
                    "metadata": {},
                    "output_type": "execute_result"
                }
            ],
            "source": [
                "cluster_assignment = assign_clusters(data, centroids)\n",
                "cluster_assignment"
            ]
        },
        {
            "attachments": {},
            "cell_type": "markdown",
            "metadata": {},
            "source": [
                "The expression `cluster_assignment == 1` gives a list of Booleans that says whether each data point is assigned to cluster 1 or not:"
            ]
        },
        {
            "cell_type": "code",
            "execution_count": 22,
            "metadata": {},
            "outputs": [
                {
                    "data": {
                        "text/plain": "array([False,  True, False])"
                    },
                    "execution_count": 22,
                    "metadata": {},
                    "output_type": "execute_result"
                }
            ],
            "source": [
                "cluster_assignment == 1"
            ]
        },
        {
            "attachments": {},
            "cell_type": "markdown",
            "metadata": {},
            "source": [
                "Likewise for cluster 0:"
            ]
        },
        {
            "cell_type": "code",
            "execution_count": 23,
            "metadata": {},
            "outputs": [
                {
                    "data": {
                        "text/plain": "array([ True, False,  True])"
                    },
                    "execution_count": 23,
                    "metadata": {},
                    "output_type": "execute_result"
                }
            ],
            "source": [
                "cluster_assignment == 0"
            ]
        },
        {
            "attachments": {},
            "cell_type": "markdown",
            "metadata": {},
            "source": [
                "Instead of indices, we can also put in the list of Booleans to pick and choose rows. Only the rows that correspond to a `True` entry will be retained.\n",
                "\n",
                "First, let's look at the data points (i.e., their values) assigned to cluster 1:"
            ]
        },
        {
            "cell_type": "code",
            "execution_count": 24,
            "metadata": {},
            "outputs": [
                {
                    "data": {
                        "text/plain": "array([[0., 0., 0.]])"
                    },
                    "execution_count": 24,
                    "metadata": {},
                    "output_type": "execute_result"
                }
            ],
            "source": [
                "data[cluster_assignment == 1]"
            ]
        },
        {
            "attachments": {},
            "cell_type": "markdown",
            "metadata": {},
            "source": [
                "This makes sense since the vector `[0 0 0]` is closer to the centroid `[0 -0.5 0]` than to the centroid `[0.5 0.5 0]`.\n",
                "\n",
                "Now let's look at the data points assigned to cluster 0:"
            ]
        },
        {
            "cell_type": "code",
            "execution_count": 25,
            "metadata": {},
            "outputs": [
                {
                    "data": {
                        "text/plain": "array([[1., 2., 0.],\n       [2., 2., 0.]])"
                    },
                    "execution_count": 25,
                    "metadata": {},
                    "output_type": "execute_result"
                }
            ],
            "source": [
                "data[cluster_assignment == 0]"
            ]
        },
        {
            "attachments": {},
            "cell_type": "markdown",
            "metadata": {},
            "source": [
                "Again, this makes sense since these values are each closer to the centroid `[0.5 0.5 0]` than to `[0 -0.5 0]`.\n",
                "\n",
                "Given all the data points in a cluster, it only remains to compute the mean. Use [np.mean()](http://docs.scipy.org/doc/numpy-1.10.0/reference/generated/numpy.mean.html). By default, the function averages all elements in a 2D array. To compute row-wise or column-wise means, add the `axis` argument. See the linked documentation for details. \n",
                "\n",
                "In the cell below, we first find all the rows that were assigned cluster 0 and then take the average of those vectors to find the new cluster 0 centroid. Notice that the result will be an np.array with 3 elements because that's the dimensionality of the vectors."
            ]
        },
        {
            "cell_type": "code",
            "execution_count": 26,
            "metadata": {},
            "outputs": [
                {
                    "data": {
                        "text/plain": "array([1.5, 2. , 0. ])"
                    },
                    "execution_count": 26,
                    "metadata": {},
                    "output_type": "execute_result"
                }
            ],
            "source": [
                "data[cluster_assignment==0].mean(axis=0)"
            ]
        },
        {
            "attachments": {},
            "cell_type": "markdown",
            "metadata": {},
            "source": [
                "## 🔍 **Question 4** Revise Centroids\n",
                "\n",
                "\n",
                "Now we are ready to fill in the blanks the function `revise_centroids(data, k, cluster_assignment)`. In the cell below, complete the `...` sections to compute the new centroids given the current cluster assignment."
            ]
        },
        {
            "cell_type": "code",
            "execution_count": 27,
            "metadata": {},
            "outputs": [],
            "source": [
                "### edTest(test_q4_revise_centroids) ###\n",
                "\n",
                "# TODO fill in this function\n",
                "def revise_centroids(data, k, cluster_assignment):\n",
                "    \"\"\"\n",
                "    Parameters:  \n",
                "      - data               - is an np.array of float values of length n.\n",
                "      - k                  - number of centroids\n",
                "      - cluster_assignment - np.array of length n where the ith index represents which \n",
                "                             centroid data[i] was assigned to. The assignments range between the values 0, ..., k-1.\n",
                "\n",
                "    Returns  \n",
                "      -  A np.array of length k for the new centroids.\n",
                "    \"\"\"\n",
                "    new_centroids = []\n",
                "    for i in range(k):\n",
                "        # Select all data points that belong to cluster i. Fill in the blank (RHS only)\n",
                "        member_data_points = data[cluster_assignment == i, :]\n",
                "        # Compute the mean of the data points. Fill in the blank (RHS only)\n",
                "        centroid = member_data_points.mean(axis=0)\n",
                "        \n",
                "        # Convert numpy.matrix type to numpy.ndarray type\n",
                "        centroid = centroid.A1\n",
                "        new_centroids.append(centroid)\n",
                "        \n",
                "    new_centroids = np.array(new_centroids)\n",
                "    return new_centroids"
            ]
        },
        {
            "attachments": {},
            "cell_type": "markdown",
            "metadata": {},
            "source": [
                "# Assessing convergence"
            ]
        },
        {
            "attachments": {},
            "cell_type": "markdown",
            "metadata": {},
            "source": [
                "How can we tell if the k-means algorithm is converging? We can look at the cluster assignments and see if they stabilize over time. In fact, we'll be running the algorithm until the cluster assignments stop changing at all. To be extra safe, and to assess the clustering performance, we'll be looking at an additional criteria: the sum of all squared distances between data points and centroids. This is defined as\n",
                "$$\n",
                "J(\\mathcal{Z},\\mu) = \\sum_{j=0}^{k-1} \\sum_{i=1:z_i = j}^n \\|\\mathbf{x}_i - \\mu_j\\|^2.\n",
                "$$\n",
                "The smaller the distances, the more homogeneous the clusters are. In other words, we'd like to have \"tight\" clusters."
            ]
        },
        {
            "cell_type": "code",
            "execution_count": 28,
            "metadata": {},
            "outputs": [],
            "source": [
                "def compute_heterogeneity(data, k, centroids, cluster_assignment):\n",
                "    \"\"\"\n",
                "    Computes the heterogeneity metric of the data using the given centroids and cluster assignments.\n",
                "    \"\"\"\n",
                "    heterogeneity = 0.0\n",
                "    for i in range(k):\n",
                "        \n",
                "        # Select all data points that belong to cluster i. Fill in the blank (RHS only)\n",
                "        member_data_points = data[cluster_assignment == i, :]\n",
                "        \n",
                "        if member_data_points.shape[0] \u003e 0: # check if i-th cluster is non-empty\n",
                "            # Compute distances from centroid to data point\n",
                "            distances = pairwise_distances(member_data_points, [centroids[i]], metric='euclidean')\n",
                "            squared_distances = distances ** 2\n",
                "            heterogeneity += np.sum(squared_distances)\n",
                "        \n",
                "    return heterogeneity\n",
                "\n",
                "    "
            ]
        },
        {
            "attachments": {},
            "cell_type": "markdown",
            "metadata": {},
            "source": [
                "Let's compute the cluster heterogeneity for the 2-cluster example we've been considering based on our current cluster assignments and centroids."
            ]
        },
        {
            "cell_type": "code",
            "execution_count": 29,
            "metadata": {},
            "outputs": [
                {
                    "name": "stdout",
                    "output_type": "stream",
                    "text": "7.25\n"
                },
                {
                    "data": {
                        "text/plain": "(3,)"
                    },
                    "execution_count": 29,
                    "metadata": {},
                    "output_type": "execute_result"
                }
            ],
            "source": [
                "print(compute_heterogeneity(data, 2, centroids, cluster_assignment))\n",
                "cluster_assignment.shape"
            ]
        },
        {
            "attachments": {},
            "cell_type": "markdown",
            "metadata": {},
            "source": [
                "# 🔍 **Question 5** Combining into a single function"
            ]
        },
        {
            "attachments": {},
            "cell_type": "markdown",
            "metadata": {},
            "source": [
                "Once the two k-means steps have been implemented, as well as our heterogeneity metric we wish to monitor, it is only a matter of putting these functions together to write a k-means algorithm that\n",
                "\n",
                "* Repeatedly performs Steps 1 and 2\n",
                "* Tracks convergence metrics on each iteration\n",
                "* Stops if either no assignment changed or we reach a certain number of iterations."
            ]
        },
        {
            "attachments": {},
            "cell_type": "markdown",
            "metadata": {},
            "source": [
                "Now we are ready to fill in the blanks the function `kmeans(data, k, initial_centroids, maxiter, record_heterogeneity=None, verbose=False)`. In the cell below, complete the `...` sections to meet the specification of the function."
            ]
        },
        {
            "cell_type": "code",
            "execution_count": 30,
            "metadata": {},
            "outputs": [],
            "source": [
                "### edTest(test_q5_kmeans) ###\n",
                "\n",
                "# TODO Fill in the blanks\n",
                "def kmeans(data, k, initial_centroids, max_iter, record_heterogeneity=None, verbose=False):\n",
                "    \"\"\"\n",
                "    This function runs k-means on given data and initial set of centroids.\n",
                "    \n",
                "    Parameters:  \n",
                "      - data                 - is an np.array of float values of length N.\n",
                "      - k                    - number of centroids\n",
                "      - initial_centroids    - is an np.array of float values of length k.\n",
                "      - max_iter             - maximum number of iterations to run the algorithm\n",
                "      - record_heterogeneity - if provided an empty list, it will compute the heterogeneity \n",
                "                               at each iteration and append it to the list. \n",
                "                               Defaults to None and won't record heterogeneity.\n",
                "      - verbose              - set to True to display progress. Defaults to False and won't \n",
                "                               display progress.\n",
                "\n",
                "    Returns  \n",
                "      - centroids - A np.array of length k for the centroids upon termination of the algorithm.\n",
                "      - cluster_assignment - A np.array of length n where the ith index represents which \n",
                "                             centroid data[i] was assigned to. The assignments range between the \n",
                "                             values 0, ..., k-1 upon termination of the algorithm.\n",
                "    \"\"\"\n",
                "    centroids = initial_centroids[:]\n",
                "    prev_cluster_assignment = None\n",
                "    \n",
                "    for itr in range(max_iter):  \n",
                "        # Print itereation number\n",
                "        if verbose:\n",
                "            print(itr)\n",
                "        \n",
                "        # 1. Make cluster assignments using nearest centroids\n",
                "        cluster_assignment = assign_clusters(data, centroids)\n",
                "            \n",
                "        # 2. Compute a new centroid for each of the k clusters, averaging all data points assigned to that cluster.\n",
                "        centroids = revise_centroids(data, k, cluster_assignment)\n",
                "            \n",
                "        # Check for convergence: if none of the assignments changed, stop\n",
                "        if prev_cluster_assignment is not None and \\\n",
                "          (prev_cluster_assignment == cluster_assignment).all():\n",
                "            break\n",
                "        \n",
                "        # Print number of new assignments \n",
                "        if prev_cluster_assignment is not None:\n",
                "            num_changed = sum(prev_cluster_assignment != cluster_assignment) # I fixed the typo\n",
                "            if verbose:\n",
                "                print(f'    {num_changed:5d} elements changed their cluster assignment.')  \n",
                "        \n",
                "        # Record heterogeneity convergence metric\n",
                "        if record_heterogeneity is not None:\n",
                "            score = compute_heterogeneity(data, k, centroids, cluster_assignment)\n",
                "            record_heterogeneity.append(score)\n",
                "        \n",
                "        prev_cluster_assignment = cluster_assignment[:]\n",
                "        \n",
                "    return centroids, cluster_assignment"
            ]
        },
        {
            "attachments": {},
            "cell_type": "markdown",
            "metadata": {},
            "source": [
                "## Plotting convergence metric"
            ]
        },
        {
            "attachments": {},
            "cell_type": "markdown",
            "metadata": {},
            "source": [
                "We can use the above function to plot the convergence metric across iterations."
            ]
        },
        {
            "cell_type": "code",
            "execution_count": 31,
            "metadata": {},
            "outputs": [],
            "source": [
                "def plot_heterogeneity(heterogeneity, k):\n",
                "    \"\"\"\n",
                "    Plots how the heterogeneity changes as the number of iterations increases.\n",
                "    \"\"\"\n",
                "    plt.figure(figsize=(7,4))\n",
                "    plt.plot(heterogeneity, linewidth=4)\n",
                "    plt.xlabel('# Iterations')\n",
                "    plt.ylabel('Heterogeneity')\n",
                "    plt.title(f'Heterogeneity of clustering over time, K={k}')\n",
                "    plt.rcParams.update({'font.size': 16})\n",
                "    plt.tight_layout()"
            ]
        },
        {
            "attachments": {},
            "cell_type": "markdown",
            "metadata": {},
            "source": [
                "Let's consider running k-means with K=3 clusters for a maximum of 400 iterations, recording cluster heterogeneity at every step.  Then, let's plot the heterogeneity over iterations using the plotting function above. We include a seed to ensure everyone gets the same results."
            ]
        },
        {
            "cell_type": "code",
            "execution_count": 32,
            "metadata": {},
            "outputs": [
                {
                    "name": "stdout",
                    "output_type": "stream",
                    "text": "0\n1\n     1267 elements changed their cluster assignment.\n2\n      456 elements changed their cluster assignment.\n3\n      231 elements changed their cluster assignment.\n4\n      149 elements changed their cluster assignment.\n5\n       61 elements changed their cluster assignment.\n6\n       19 elements changed their cluster assignment.\n7\n        5 elements changed their cluster assignment.\n8\n        3 elements changed their cluster assignment.\n9\n        1 elements changed their cluster assignment.\n10\n        1 elements changed their cluster assignment.\n11\n"
                },
                {
                    "data": {
                        "image/png": "[encoded data removed]",
                        "text/plain": "\u003cFigure size 700x400 with 1 Axes\u003e"
                    },
                    "metadata": {},
                    "output_type": "display_data"
                }
            ],
            "source": [
                "k = 3\n",
                "heterogeneity = []\n",
                "initial_centroids = get_initial_centroids(tf_idf, k, seed=0)\n",
                "centroids, cluster_assignment = kmeans(tf_idf, k, initial_centroids, max_iter=400,\n",
                "                                       record_heterogeneity=heterogeneity, verbose=True)\n",
                "plot_heterogeneity(heterogeneity, k)"
            ]
        },
        {
            "attachments": {},
            "cell_type": "markdown",
            "metadata": {},
            "source": [
                "### 🔍 **Question 6** Largest cluster\n",
                "\n",
                "Using the clustering made in the last cell, write code to computer which cluster contains the most data points. Store your result as a index (an `int`) in a variable named `largest_cluster` \n",
                "representing which cluster in `centroids` has the most datapoints assigned to it.\n",
                ""
            ]
        },
        {
            "cell_type": "code",
            "execution_count": 51,
            "metadata": {},
            "outputs": [],
            "source": [
                "### edTest(test_q6_largest_cluster) ###\n",
                "\n",
                "# TODO Find largest cluster from example above\n",
                "count = []\n",
                "for i in np.arange(k):\n",
                "    count = np.append(count, len(cluster_assignment[cluster_assignment == i]))\n",
                "largest_cluster = np.argmax(count)\n",
                ""
            ]
        },
        {
            "attachments": {},
            "cell_type": "markdown",
            "metadata": {},
            "source": [
                "# Beware of Local Minima"
            ]
        },
        {
            "attachments": {},
            "cell_type": "markdown",
            "metadata": {},
            "source": [
                "One weakness of k-means is that it tends to get stuck in a local minimum based on its starting position. To see this, let us run k-means multiple times, with different initial centroids created using different random seeds.\n",
                "\n",
                "**Note:** Again, in practice, you should set different seeds for every run. We give you a list of seeds for this assignment so that everyone gets the same answer.\n",
                "\n",
                "This may take a minute or two to run."
            ]
        },
        {
            "cell_type": "code",
            "execution_count": 34,
            "metadata": {},
            "outputs": [
                {
                    "name": "stdout",
                    "output_type": "stream",
                    "text": "seed=000000, heterogeneity=5569.17352\nseed=020000, heterogeneity=5563.93396\nseed=040000, heterogeneity=5562.09533\nseed=060000, heterogeneity=5574.80813\nseed=080000, heterogeneity=5563.38377\nseed=100000, heterogeneity=5565.93209\nseed=120000, heterogeneity=5572.40064\nCPU times: user 12.4 s, sys: 51.1 ms, total: 12.4 s\nWall time: 12.4 s\n"
                }
            ],
            "source": [
                "%%time\n",
                "# ^ Magic command to time how long it takes for this cell to run!\n",
                "# You can see how long it took with the output that says \"Wall time\"\n",
                "\n",
                "k = 10\n",
                "heterogeneity = {}\n",
                "for seed in [0, 20000, 40000, 60000, 80000, 100000, 120000]:\n",
                "    initial_centroids = get_initial_centroids(tf_idf, k, seed)\n",
                "    centroids, cluster_assignment = kmeans(tf_idf, k, initial_centroids, max_iter=800,\n",
                "                                           record_heterogeneity=None, verbose=False)\n",
                "    # To save time, compute heterogeneity only once in the end\n",
                "    heterogeneity[seed] = compute_heterogeneity(tf_idf, k, centroids, cluster_assignment)\n",
                "    print(f'seed={seed:06d}, heterogeneity={heterogeneity[seed]:.5f}')\n",
                ""
            ]
        },
        {
            "attachments": {},
            "cell_type": "markdown",
            "metadata": {},
            "source": [
                "Notice the variation in heterogeneity for different initializations. This indicates that k-means runs may have not converged or they got stuck at a local minimum.\n",
                "\n",
                "# k-means++\n",
                "One effective way to counter this tendency is to use **k-means++** to provide a smart initialization. This method tries to spread out the initial set of centroids so that they are not too close together. It is known to improve the quality of local optima and lower average runtime, but is a bit slower to start since it needs to do more computation to place centroids."
            ]
        },
        {
            "cell_type": "code",
            "execution_count": 35,
            "metadata": {},
            "outputs": [],
            "source": [
                "def smart_initialize(data, k, seed=None):\n",
                "    \"\"\"\n",
                "    Use k-means++ to initialize a good set of centroids\n",
                "    \"\"\"\n",
                "    if seed is not None: # useful for obtaining consistent results\n",
                "        np.random.seed(seed)\n",
                "        \n",
                "    centroids = np.zeros((k, data.shape[1]))\n",
                "    \n",
                "    # Randomly choose the first centroid.\n",
                "    # Since we have no prior knowledge, choose uniformly at random\n",
                "    idx = np.random.randint(data.shape[0])\n",
                "    centroids[0] = data[idx,:].toarray()\n",
                "    \n",
                "    # Compute distances from the first centroid chosen to all the other data points\n",
                "    distances = pairwise_distances(data, centroids[0:1], metric='euclidean').flatten()\n",
                "    \n",
                "    for i in range(1, k):\n",
                "        # Choose the next centroid randomly, so that the probability for each data point to be chosen\n",
                "        # is directly proportional to its squared distance from the nearest centroid.\n",
                "        # Roughtly speaking, a new centroid should be as far as from ohter centroids as possible.\n",
                "        idx = np.random.choice(data.shape[0], 1, p=distances/sum(distances))\n",
                "        centroids[i] = data[idx,:].toarray()\n",
                "        \n",
                "        # Now compute distances from the centroids to all data points\n",
                "        distances = np.min(pairwise_distances(data, centroids[0:i+1], metric='euclidean'),axis=1)\n",
                "    \n",
                "    return centroids"
            ]
        },
        {
            "attachments": {},
            "cell_type": "markdown",
            "metadata": {},
            "source": [
                "Let's now rerun k-means with 10 clusters using the same set of seeds, but always using k-means++ to initialize the algorithm.\n",
                "\n",
                "This may take several minutes to run."
            ]
        },
        {
            "cell_type": "code",
            "execution_count": 36,
            "metadata": {},
            "outputs": [
                {
                    "name": "stdout",
                    "output_type": "stream",
                    "text": "seed=000000, heterogeneity=5563.24947\nseed=020000, heterogeneity=5569.53006\nseed=040000, heterogeneity=5563.95996\nseed=060000, heterogeneity=5567.74848\nseed=080000, heterogeneity=5557.53663\nseed=100000, heterogeneity=5559.45113\nseed=120000, heterogeneity=5559.02003\nCPU times: user 13.1 s, sys: 15.8 ms, total: 13.1 s\nWall time: 13.1 s\n"
                }
            ],
            "source": [
                "%%time\n",
                "\n",
                "k = 10\n",
                "heterogeneity_smart = {}\n",
                "for seed in [0, 20000, 40000, 60000, 80000, 100000, 120000]:\n",
                "    initial_centroids = smart_initialize(tf_idf, k, seed)\n",
                "    centroids, cluster_assignment = kmeans(tf_idf, k, initial_centroids, max_iter=400,\n",
                "                                           record_heterogeneity=None, verbose=False)\n",
                "    # To save time, compute heterogeneity only once in the end\n",
                "    heterogeneity_smart[seed] = compute_heterogeneity(tf_idf, k, centroids, cluster_assignment)\n",
                "    print(f'seed={seed:06d}, heterogeneity={heterogeneity_smart[seed]:.5f}')"
            ]
        },
        {
            "attachments": {},
            "cell_type": "markdown",
            "metadata": {},
            "source": [
                "Let's compare the set of cluster heterogeneities we got from our 7 restarts of k-means using random initialization compared to the 7 restarts of k-means using k-means++ as a smart initialization.\n",
                "\n",
                "The following code produces a [box plot](http://matplotlib.org/api/pyplot_api.html) for each of these methods, indicating the spread of values produced by each method."
            ]
        },
        {
            "cell_type": "code",
            "execution_count": 37,
            "metadata": {},
            "outputs": [
                {
                    "data": {
                        "image/png": "[encoded data removed]",
                        "text/plain": "\u003cFigure size 1000x500 with 1 Axes\u003e"
                    },
                    "metadata": {},
                    "output_type": "display_data"
                }
            ],
            "source": [
                "plt.figure(figsize=(10,5))\n",
                "plt.boxplot([list(heterogeneity.values()), list(heterogeneity_smart.values())], vert=False)\n",
                "\n",
                "plt.yticks([1, 2], ['k-means', 'k-means++'])\n",
                "plt.xlabel('Heterogeneity')\n",
                "plt.title('Heterogeneity distribution of k-means vs k-means++')\n",
                "\n",
                "plt.rcParams.update({'font.size': 16})\n",
                "plt.tight_layout()"
            ]
        },
        {
            "attachments": {},
            "cell_type": "markdown",
            "metadata": {},
            "source": [
                "A few things to notice from the box plot:\n",
                "* Random initialization results in a worse clustering than k-means++ on average.\n",
                "* The best result of k-means++ is better than the best result of random initialization.\n",
                "\n",
                "## 🔍 **Question 7** kmeans_multiple_runs\n",
                "**In general, you should run k-means at least a few times with different initializations and then return the run resulting in the lowest heterogeneity.** Let us write a function that runs k-means multiple times and picks the best run that minimizes heterogeneity.\n",
                "\n",
                "Now we are ready to fill in the blanks the function `kmeans_multiple_runs(data, k, max_iter, verbose=False)`. \n",
                "\n",
                ""
            ]
        },
        {
            "cell_type": "code",
            "execution_count": 38,
            "metadata": {},
            "outputs": [],
            "source": [
                "### edTest(test_q7_kmeans_multiple_runs) ###\n",
                "\n",
                "# TODO Fill in the ...\n",
                "def kmeans_multiple_runs(data, k, max_iter, seeds, verbose=False):\n",
                "    \"\"\"\n",
                "    Runs kmeans multiple times \n",
                "    \n",
                "    Parameters:  \n",
                "      - data     - is an np.array of float values of length n.\n",
                "      - k        - number of centroids\n",
                "      - max_iter - maximum number of iterations to run the algorithm\n",
                "      - seeds    - Either number of seeds to try (generated randomly) or a list of seed values\n",
                "      - verbose  - set to True to display progress. Defaults to False and won't display progress.\n",
                "    \n",
                "    Returns  \n",
                "      - final_centroids          - A np.array of length k for the centroids upon \n",
                "                                   termination of the algorithm.\n",
                "      - final_cluster_assignment - A np.array of length n where the ith index represents which \n",
                "                                   centroid data[i] was assigned to. The assignments range between \n",
                "                                   the values 0, ..., k-1 upon termination of the algorithm.\n",
                "    \"\"\"    \n",
                "    min_heterogeneity_achieved = float('inf')\n",
                "    final_centroids = None\n",
                "    final_cluster_assignment = None\n",
                "    if type(seeds) == int:\n",
                "        seeds = np.random.randint(low=0, high=10000, size=seeds)\n",
                "    \n",
                "    num_runs = len(seeds)\n",
                "    \n",
                "    for seed in seeds:\n",
                "        # Use k-means++ initialization: Fill in the blank\n",
                "        # Set record_heterogeneity=None because we will compute that once at the end.\n",
                "        initial_centroids = smart_initialize(data, k, seed)\n",
                "\n",
                "        # Run k-means: Fill in the blank \n",
                "        centroids, cluster_assignment = kmeans(data, k, initial_centroids, max_iter, record_heterogeneity=None, verbose=False)\n",
                "        \n",
                "        # To save time, compute heterogeneity only once in the end\n",
                "        seed_heterogeneity = compute_heterogeneity(data, k, centroids, cluster_assignment)\n",
                "        \n",
                "        if verbose:\n",
                "            print(f'seed={seed:06d}, heterogeneity={seed_heterogeneity:.5f}')\n",
                "        \n",
                "        # if current measurement of heterogeneity is lower than previously seen,\n",
                "        # update the minimum record of heterogeneity.\n",
                "        if seed_heterogeneity \u003c min_heterogeneity_achieved:\n",
                "            min_heterogeneity_achieved = seed_heterogeneity\n",
                "            final_centroids = centroids\n",
                "            final_cluster_assignment = cluster_assignment\n",
                "    \n",
                "    # Return the centroids and cluster assignments that minimize heterogeneity.\n",
                "    return final_centroids, final_cluster_assignment"
            ]
        },
        {
            "attachments": {},
            "cell_type": "markdown",
            "metadata": {},
            "source": [
                "## How to choose K"
            ]
        },
        {
            "attachments": {},
            "cell_type": "markdown",
            "metadata": {},
            "source": [
                "Since we are measuring the tightness of the clusters, a higher value of K reduces the possible heterogeneity metric by definition.  For example, if we have N data points and set K=N clusters, then we could have 0 cluster heterogeneity by setting the N centroids equal to the values of the N data points. (Note: Not all runs for larger K will result in lower heterogeneity than a single run with smaller K due to local optima.)  Let's explore this general trend for ourselves by performing the following analysis.\n",
                "\n",
                "\n",
                "This code block will take some times to complete. It will try 5 values of `k` and for each `k`, will try 3 different seeds. The cell will print its progress to help you know how far it has made. When `k` is larger, it will take longer to run (why might that be?)!"
            ]
        },
        {
            "cell_type": "code",
            "execution_count": 39,
            "metadata": {},
            "outputs": [
                {
                    "name": "stdout",
                    "output_type": "stream",
                    "text": "Running k = 2\nseed=020000, heterogeneity=5668.36228\nseed=040000, heterogeneity=5668.36228\nseed=080000, heterogeneity=5668.36228\nRunning k = 10\nseed=020000, heterogeneity=5569.53006\nseed=040000, heterogeneity=5563.95996\nseed=080000, heterogeneity=5557.53663\nRunning k = 25\nseed=020000, heterogeneity=5480.00474\nseed=040000, heterogeneity=5486.59028\nseed=080000, heterogeneity=5490.82007\nRunning k = 50\nseed=020000, heterogeneity=5406.00305\nseed=040000, heterogeneity=5399.31884\nseed=080000, heterogeneity=5415.92085\nRunning k = 100\nseed=020000, heterogeneity=5323.74445\nseed=040000, heterogeneity=5326.32351\nseed=080000, heterogeneity=5316.97425\nCPU times: user 1min 1s, sys: 2.25 s, total: 1min 4s\nWall time: 1min 4s\n"
                },
                {
                    "data": {
                        "image/png": "[encoded data removed]",
                        "text/plain": "\u003cFigure size 700x400 with 1 Axes\u003e"
                    },
                    "metadata": {},
                    "output_type": "display_data"
                }
            ],
            "source": [
                "%%time\n",
                "\n",
                "def plot_k_vs_heterogeneity(k_values, heterogeneity_values):\n",
                "    \"\"\"\n",
                "    Given list of k-values and their heterogeneities, will make a plot\n",
                "    showing how heterogeneity varies with k.\n",
                "    \"\"\"\n",
                "    plt.figure(figsize=(7,4))\n",
                "    plt.plot(k_values, heterogeneity_values, linewidth=4)\n",
                "    plt.xlabel('K')\n",
                "    plt.ylabel('Heterogeneity')\n",
                "    plt.title('K vs. Heterogeneity')\n",
                "    plt.rcParams.update({'font.size': 16})\n",
                "    plt.tight_layout()\n",
                "\n",
                "all_centroids = {}\n",
                "all_cluster_assignment = {}\n",
                "heterogeneity_values = []\n",
                "seeds = [20000, 40000, 80000]\n",
                "k_list = [2, 10, 25, 50, 100]\n",
                "\n",
                "for k in k_list:\n",
                "    print(f'Running k = {k}')\n",
                "    heterogeneity = []\n",
                "    all_centroids[k], all_cluster_assignment[k] = kmeans_multiple_runs(tf_idf, k, max_iter=400,\n",
                "                                                                       seeds=seeds, verbose=True)\n",
                "    score = compute_heterogeneity(tf_idf, k, all_centroids[k], all_cluster_assignment[k])\n",
                "    heterogeneity_values.append(score)\n",
                "\n",
                "plot_k_vs_heterogeneity(k_list, heterogeneity_values)"
            ]
        },
        {
            "attachments": {},
            "cell_type": "markdown",
            "metadata": {},
            "source": [
                "# Inspecting clusters of documents\n",
                "Let's start visualizing some clustering results to see if we think the clustering makes sense.  We can use such visualizations to help us assess whether we have set K too large or too small for a given application.  Following the theme of this course, we will judge whether the clustering makes sense in the context of document analysis.\n",
                "\n",
                "What are we looking for in a good clustering of documents?\n",
                "* Documents in the same cluster should be similar.\n",
                "* Documents from different clusters should be less similar.\n",
                "\n",
                "So a bad clustering exhibits either of two symptoms:\n",
                "* Documents in a cluster have mixed content.\n",
                "* Documents with similar content are divided up and put into different clusters.\n",
                "\n",
                "To help visualize the clustering, we do the following:\n",
                "* Fetch nearest neighbors of each centroid from the set of documents assigned to that cluster. We will consider these documents as being representative of the cluster.\n",
                "* Print titles and first sentences of those nearest neighbors.\n",
                "* Print top 5 words that have highest tf-idf weights in each centroid."
            ]
        },
        {
            "cell_type": "code",
            "execution_count": 40,
            "metadata": {},
            "outputs": [],
            "source": [
                "def visualize_document_clusters(wiki, tf_idf, centroids, cluster_assignment, k, words, \n",
                "                                display_docs=5):\n",
                "    \"\"\"\n",
                "    Given a set of clustered documents, prints information about the centroids including\n",
                "       - The title and starting sentence of the closest 5 points to each centroid\n",
                "       - The five words that are contained in the clusters documents with the highest TF-IDF.\n",
                "    \n",
                "    Parameters:  \n",
                "      - wiki: original dataframe\n",
                "      - tf_idf: data matrix containing TF-IDF vectors for each document\n",
                "      - centroids: A np.array of length k that contains the centroids for the clustering\n",
                "      - cluster_assignments: A np.array of length N that has the cluster assignments for each row\n",
                "      - k: What value of k is used\n",
                "      - words: List of words in the corpus (should match tf_idf)\n",
                "      - display_odcs: How many documents to show for each cluster (default 5)\n",
                "    \"\"\"\n",
                "    print('=' * 90)\n",
                "\n",
                "    # Visualize each cluster c\n",
                "    for c in range(k):\n",
                "        # Cluster heading\n",
                "        print(f'Cluster {c}  ({(cluster_assignment == c).sum()} docs)'),\n",
                "        # Print top 5 words with largest TF-IDF weights in the cluster\n",
                "        idx = centroids[c].argsort()[::-1]\n",
                "        for i in range(5): # Print each word along with the TF-IDF weight\n",
                "            print(f'{words[idx[i]]}:{centroids[c,idx[i]]:.3f}', end=' '),\n",
                "        print()\n",
                "        \n",
                "        if display_docs \u003e 0:\n",
                "            print()\n",
                "            # Compute distances from the centroid to all data points in the cluster,\n",
                "            # and compute nearest neighbors of the centroids within the cluster.\n",
                "            distances = pairwise_distances(tf_idf, centroids[c].reshape(1, -1), metric='euclidean').flatten()\n",
                "            distances[cluster_assignment!=c] = float('inf') # remove non-members from consideration\n",
                "            nearest_neighbors = distances.argsort()\n",
                "            # For the nearest neighbors, print the title as well as first 180 characters of text.\n",
                "            # Wrap the text at 80-character mark.\n",
                "            for i in range(display_docs):\n",
                "                text = ' '.join(wiki.iloc[nearest_neighbors[i]]['text'].split(None, 25)[0:25])\n",
                "                print(f'* {wiki.iloc[nearest_neighbors[i]][\"name\"]:50s} {distances[nearest_neighbors[i]]:.5f}')\n",
                "                print(f'  {text[:90]}')\n",
                "                if len(text) \u003e 90:\n",
                "                    print(f'  {text[90:180]}')\n",
                "                print()\n",
                "        print('=' * 90)"
            ]
        },
        {
            "attachments": {},
            "cell_type": "markdown",
            "metadata": {},
            "source": [
                "Let us first look at the 2 cluster case (K=2)."
            ]
        },
        {
            "cell_type": "code",
            "execution_count": 41,
            "metadata": {},
            "outputs": [
                {
                    "name": "stdout",
                    "output_type": "stream",
                    "text": "==========================================================================================\nCluster 0  (1055 docs)\nshe:0.169 her:0.117 was:0.040 for:0.038 as:0.033 \n\n* Bhama Srinivasan                                   0.89235\n  bhama srinivasan april 22 1935 is a mathematician known for her work in the representation\n   theory of finite groups her contributions were honored with the\n\n* Delores Brumfield                                  0.89849\n  delores brumfield white born may 26 1932 is a former utility infielderoutfielder who playe\n  d from 1947 through 1953 in the allamerican girls professional baseball league\n\n* Natashia Williams                                  0.90086\n  natashia williamsblach born august 2 1978 is an american actress and former wonderbra camp\n  aign model who is perhaps best known for her role as shane\n\n* Gila Golan                                         0.90518\n  gila golan hebrew born 1940 is a polishborn israeli former fashion model and actressgolan \n  was born in krakw poland around 1940 her exact birthday is\n\n* Bette McLaurin                                     0.90751\n  bette mclaurin born c1929 is an africanamerican singer best known for her jazzinfluenced b\n  allad and rb performances in the 1950s two of her recordings i\n\n==========================================================================================\nCluster 1  (4852 docs)\nhe:0.075 his:0.042 was:0.040 for:0.038 as:0.033 \n\n* Wilson McLean                                      0.94057\n  wilson mclean born 1937 is a scottish illustrator and artist he has illustrated primarily \n  in the field of advertising but has also provided cover art\n\n* Vipin Sharma                                       0.94801\n  vipin sharma is an indian actor born in new delhi he is a graduate of national school of d\n  rama new delhi india and the canadian\n\n* Nicky Banger                                       0.95174\n  nicholas lee banger born 25 february 1971 is a retired english professional footballer he \n  is currently head of commercial operations with woking fcbanger was born\n\n* Billy Bingham                                      0.95206\n  william laurence billy bingham mbe born 5 august 1931 is a former international footballer\n   and football manager who now works as a scout for english\n\n* Wally Whitehurst                                   0.95285\n  walter richard whitehurst born april 11 1964 in shreveport louisiana is a former righthand\n  ed pitcher in major league baseball who played from 1989 to 1996\n\n==========================================================================================\n"
                }
            ],
            "source": [
                "k = 2\n",
                "visualize_document_clusters(wiki, tf_idf, all_centroids[k], all_cluster_assignment[k], k, words)"
            ]
        },
        {
            "attachments": {},
            "cell_type": "markdown",
            "metadata": {},
            "source": [
                "Both clusters have mixed content, although clearly cluster 0 are all women and cluster 1 are all men:\n",
                "\n",
                "It would be better if we sub-divided into more categories. So let us use more clusters. How about `K=10`?"
            ]
        },
        {
            "cell_type": "code",
            "execution_count": 42,
            "metadata": {
                "scrolled": true
            },
            "outputs": [
                {
                    "name": "stdout",
                    "output_type": "stream",
                    "text": "==========================================================================================\nCluster 0  (872 docs)\nshe:0.181 her:0.126 was:0.043 for:0.039 as:0.033 \n\n* Bhama Srinivasan                                   0.88835\n  bhama srinivasan april 22 1935 is a mathematician known for her work in the representation\n   theory of finite groups her contributions were honored with the\n\n* Delores Brumfield                                  0.89388\n  delores brumfield white born may 26 1932 is a former utility infielderoutfielder who playe\n  d from 1947 through 1953 in the allamerican girls professional baseball league\n\n* Natashia Williams                                  0.89781\n  natashia williamsblach born august 2 1978 is an american actress and former wonderbra camp\n  aign model who is perhaps best known for her role as shane\n\n* Gila Golan                                         0.90040\n  gila golan hebrew born 1940 is a polishborn israeli former fashion model and actressgolan \n  was born in krakw poland around 1940 her exact birthday is\n\n* Jane Jacobs (baseball)                             0.90399\n  jane jeanette jacobs badini born june 16 1924 is a former pitcher who played from 1944 thr\n  ough 1947 in the allamerican girls professional baseball league\n\n==========================================================================================\nCluster 1  (435 docs)\nhe:0.088 league:0.078 season:0.060 baseball:0.051 coach:0.050 \n\n* Wally Whitehurst                                   0.90524\n  walter richard whitehurst born april 11 1964 in shreveport louisiana is a former righthand\n  ed pitcher in major league baseball who played from 1989 to 1996\n\n* Sixto Lezcano                                      0.90576\n  sixto joaquin lezcano curras born november 28 1953 in arecibo puerto rico is a retired bas\n  eball player who played for 12 seasons as an outfielder\n\n* Joe Strong                                         0.90689\n  joseph benjamin strong born september 9 1962 in fairfield california is a former major lea\n  gue baseball pitcher who played for the florida marlins from 2000\n\n* Clyde Mashore                                      0.90856\n  clyde wayne mashore born may 29 1945 in concord california is a former major league baseba\n  ll outfielder who played in 241 games over five seasons\n\n* Dom Zanni                                          0.90946\n  dominick thomas zanni born march 1 1932 in the bronx new york is a former professional bas\n  eball player a righthanded pitcher he pitched in 111\n\n==========================================================================================\nCluster 2  (642 docs)\nhe:0.075 university:0.069 research:0.052 at:0.047 professor:0.042 \n\n* Elijah Anderson                                    0.92509\n  elijah anderson is an american sociologist he holds the william k lanman jr professorship \n  in sociology at yale university where he teaches and directs the\n\n* Sal Restivo                                        0.92838\n  sal restivo born 1940 is a sociologistanthropologist he is a leading contributor to scienc\n  e studies and in particular to the sociology of mathematical knowledge his\n\n* Stuart Henry (criminologist)                       0.93238\n  stuart henry is professor of criminal justice and director of the school of public affairs\n   san diego state university 2006 he has also been appointed\n\n* Daniel Berg (educator)                             0.93330\n  daniel berg is a scientist educator and was the fifteenth president of rensselaer polytech\n  nic institutehe was born on june 1 1929 in new york city\n\n* Robert Pollack (biologist)                         0.93396\n  dr robert pollack is an american biologist who studies the intersections between science a\n  nd religion he currently works at columbia university where he serves as\n\n==========================================================================================\nCluster 3  (399 docs)\nhe:0.095 football:0.069 league:0.062 club:0.061 his:0.057 \n\n* Tony Smith (footballer, born 1957)                 0.89297\n  anthony tony smith born 20 february 1957 is a former footballer who played as a central de\n  fender in the football league in the 1970s and\n\n* Steve Bruce                                        0.90494\n  stephen roger steve bruce born 31 december 1960 is an english football manager and former \n  player who is currently the manager at hull city born\n\n* Shane Hobbs                                        0.90966\n  shane hobbs born 30 april 1985 is a former professional footballer who played in the footb\n  all league for bristol rovers in 2003 and currently plays\n\n* Billy Bingham                                      0.91052\n  william laurence billy bingham mbe born 5 august 1931 is a former international footballer\n   and football manager who now works as a scout for english\n\n* Roy Keane                                          0.91080\n  royston maurice roy keane born 10 august 1971 is an irish football manager and former prof\n  essional football player he is the assistant manager of the\n\n==========================================================================================\nCluster 4  (1286 docs)\nhe:0.057 his:0.045 with:0.035 on:0.034 for:0.034 \n\n* Graham Ord                                         0.94522\n  graham ord born 22 march 1961 is an english musician and songwriter he has garnered respec\n  t internationally as a fine musician and engaging communicator his\n\n* Mark Wilkinson (singer)                            0.94764\n  mark wilkinson singer born buckinghamshire england is an australian country singersongwrit\n  er whose lyrical depth gift for melody and impassioned delivery are quickly establishing h\n\n* Richard Warren (musician)                          0.94880\n  richard daniel warren born 3 june 1973 is a british musician songwriter and producerhe sig\n  ned his first record deal with heavenly records at the height\n\n* Stewart Levine                                     0.95124\n  stewart levine is an american record producer he has worked with such artists as the crusa\n  ders minnie riperton lionel richie simply red hugh masekela dr\n\n* Josh Wilson (musician)                             0.95582\n  joshua david josh wilson born november 14 1983 is a contemporary christian musician from e\n  l dorado arkansas he is best known for the radio singles\n\n==========================================================================================\nCluster 5  (346 docs)\nhe:0.081 tour:0.051 his:0.048 world:0.046 at:0.045 \n\n* Jay Haas                                           0.91180\n  jay dean haas born december 2 1953 is an american professional golfer formerly of the pga \n  tour who now plays on the champions tourhaas was\n\n* Mark Hensby                                        0.91643\n  mark adam hensby born 29 june 1972 is an australian professional golfer he is known as the\n   forgotten man of australian golfhensby was born in\n\n* Andrew Buckle                                      0.91949\n  andrew nicholas buckle 24 september 1982 is an australian professional golferbuckle was bo\n  rn in brisbane queensland he had a promising amateur career including two wins\n\n* Gene Sauers                                        0.92007\n  gene craig sauers born august 22 1962 is an american professional golfer who has played on\n   the pga tour and currently plays on the champions\n\n* Mike Brisky                                        0.92243\n  michael charles brisky born may 28 1965 is an american professional golfer who played on t\n  he pga tour and the nationwide tourbrisky attended pan american\n\n==========================================================================================\nCluster 6  (191 docs)\nart:0.151 museum:0.072 gallery:0.051 he:0.049 his:0.046 \n\n* Tom Moody (artist)                                 0.88092\n  tom moody is a visual artist critic and blogger based in new york city he began his career\n   as a painter using traditional materials but\n\n* Michael Hafftka                                    0.88116\n  michael hafftka is an american figurative expressionist painter living in new york city hi\n  s work is represented in the permanent collections of a number of\n\n* Burton Silverman                                   0.88720\n  burton silverman born 1928 is an american paintera 1949 graduate of columbia university si\n  lvermans work has concentrated on as he put it the landscape of\n\n* Charles Arnoldi                                    0.89113\n  charles arnoldi also known as chuck arnoldi and as charles arthur arnoldi is an american p\n  ainter sculptor and printmaker he was born april 10 1946\n\n* Steven Montgomery                                  0.89320\n  steven montgomery is an american artist born in detroit 1954 most often associated with la\n  rge scale ceramic sculpture suggesting industrial objects or mechanical detritus he\n\n==========================================================================================\nCluster 7  (170 docs)\nmusic:0.124 orchestra:0.110 he:0.066 symphony:0.061 opera:0.059 \n\n* David Oei                                          0.88056\n  david oei chinese name pinyin hung jln surname pronounced wee is hong kongborn american cl\n  assical pianist b 1950 in hong kongoei was born in hong\n\n* Daniel Meyer (conductor)                           0.88816\n  daniel meyer was born in cleveland ohio and has been conductor and musical director of sev\n  eral prominent american orchestrashe is a graduate of denison university\n\n* Xian Zhang                                         0.89002\n  xian zhang chinese born in 1973 in dandong liaoning is a chinese american conductoras a ch\n  ild zhang began to learn music with her mother on\n\n* Stefano Miceli                                     0.89997\n  stefano miceli born 14 april 1975 is an italian classical pianist and conductorhe made his\n   concert debut at the age of 11 then he moved\n\n* Robert Creech                                      0.90146\n  robert edward creech born 26 september 1928 victoria british columbia is a canadian french\n   hornist music educator and arts administrator he served as director of\n\n==========================================================================================\nCluster 8  (1231 docs)\nhe:0.079 was:0.054 as:0.040 for:0.037 his:0.033 \n\n* Doug Naysmith                                      0.94268\n  john douglas naysmith born 1 april 1941 is a british labour cooperative politician who was\n   the member of parliament mp for bristol north west from\n\n* Bill Clinton                                       0.94311\n  william jefferson bill clinton born william jefferson blythe iii august 19 1946 is an amer\n  ican politician who served from 1993 to 2001 as the 42nd\n\n* John Garamendi                                     0.94778\n  john raymond garamendi born january 24 1945 is an american rancher businessman politician \n  and member of the democratic party who has represented areas of northern\n\n* Steve May                                          0.94804\n  steve may born c 1972 is a former politician from arizona where he served in the arizona h\n  ouse of representatives he was openly gay when\n\n* Levin H. Campbell                                  0.94902\n  levin hicks campbell born january 2 1927 is an american federal appellate judge on senior \n  status with the united states court of appeals for the\n\n==========================================================================================\nCluster 9  (335 docs)\nfilm:0.120 he:0.060 for:0.047 television:0.046 series:0.042 \n\n* Robert Braiden                                     0.90570\n  robert braiden is an australian film director and writer born in sydney he grew up in moor\n  ebank liverpool new south wales and now currently lives\n\n* Paul Swadel                                        0.91027\n  paul swadel is a new zealand film director and producerhe has directed and produced many s\n  uccessful short films which have screened in competition at cannes\n\n* Bruce Redman                                       0.91450\n  dr bruce redman born 25 april 1960 is an australian film director film critic radio person\n  ality and media relations manager he currently works for the\n\n* Matthew Saville                                    0.91656\n  matthew saville is an australian television and film director who began his career working\n   as a titles designer for many australian television series several of\n\n* Hossein Shahabi                                    0.91684\n  hossein shahabi persian is an iranian film director screenwriter and film producer he belo\n  ngs is to the third generation of iranian new wave who was\n\n==========================================================================================\n"
                }
            ],
            "source": [
                "k = 10\n",
                "visualize_document_clusters(wiki, tf_idf, all_centroids[k], all_cluster_assignment[k], k, words)"
            ]
        },
        {
            "attachments": {},
            "cell_type": "markdown",
            "metadata": {},
            "source": [
                "We no longer have the clear split between men and women. Cluters 0 and 2 appear to be still mixed, but others are quite consistent in content.\n",
                "* Cluster 0: notable women\n",
                "* Cluster 1: baseball players\n",
                "* Cluster 2: researchers, professors\n",
                "* Cluster 3: football(soccer)\n",
                "* Cluster 4: musicians, singers, song writers\n",
                "* Cluster 5: golfers\n",
                "* Cluster 6: painters, scultpers, artists\n",
                "* Cluster 7: orchestral musicians, conductors\n",
                "* Cluster 8: politicians, political personel\n",
                "* Cluster 9: film directors|\n",
                "\n",
                "Clusters are now more pure, but some are qualitatively \"bigger\" than others. For instance, the category of scholars is more general than the category of film directors. Increasing the number of clusters may split larger clusters. Another way to look at the size of cluster is to count the number of articles in each cluster."
            ]
        },
        {
            "cell_type": "code",
            "execution_count": 43,
            "metadata": {},
            "outputs": [
                {
                    "data": {
                        "text/plain": "array([ 872,  435,  642,  399, 1286,  346,  191,  170, 1231,  335])"
                    },
                    "execution_count": 43,
                    "metadata": {},
                    "output_type": "execute_result"
                }
            ],
            "source": [
                "np.bincount(all_cluster_assignment[10])"
            ]
        },
        {
            "attachments": {},
            "cell_type": "markdown",
            "metadata": {},
            "source": [
                "There appears to be at least some connection between the topical consistency of a cluster and the number of its member data points.\n",
                "\n",
                "Let us visualize the case for K=25. For the sake of brevity, we do not print the content of documents. It turns out that the top words with highest TF-IDF weights in each cluster are representative of the cluster.\n",
                ""
            ]
        },
        {
            "cell_type": "code",
            "execution_count": 44,
            "metadata": {},
            "outputs": [
                {
                    "name": "stdout",
                    "output_type": "stream",
                    "text": "==========================================================================================\nCluster 0  (71 docs)\nhe:0.072 was:0.067 labor:0.062 for:0.052 legislative:0.049 \n==========================================================================================\nCluster 1  (89 docs)\nchurch:0.133 bishop:0.094 he:0.090 was:0.057 theology:0.054 \n==========================================================================================\nCluster 2  (35 docs)\ndanish:0.052 company:0.044 ceo:0.041 business:0.041 he:0.035 \n==========================================================================================\nCluster 3  (171 docs)\nleague:0.137 baseball:0.123 he:0.096 major:0.071 games:0.064 \n==========================================================================================\nCluster 4  (112 docs)\nshe:0.219 her:0.072 was:0.067 party:0.051 minister:0.048 \n==========================================================================================\nCluster 5  (29 docs)\npsychology:0.206 research:0.080 psychological:0.067 university:0.055 he:0.047 \n==========================================================================================\nCluster 6  (72 docs)\nmedical:0.092 medicine:0.087 health:0.079 research:0.063 he:0.057 \n==========================================================================================\nCluster 7  (188 docs)\nhe:0.073 district:0.067 was:0.054 senate:0.046 republican:0.046 \n==========================================================================================\nCluster 8  (377 docs)\nhe:0.097 football:0.068 league:0.066 club:0.062 season:0.058 \n==========================================================================================\nCluster 9  (52 docs)\nminister:0.212 he:0.089 prime:0.073 was:0.068 government:0.052 \n==========================================================================================\nCluster 10  (46 docs)\ntour:0.317 pga:0.243 golf:0.125 he:0.117 his:0.083 \n==========================================================================================\nCluster 11  (444 docs)\nhe:0.079 coach:0.047 team:0.046 his:0.042 was:0.041 \n==========================================================================================\nCluster 12  (68 docs)\nlaw:0.238 he:0.073 legal:0.063 court:0.051 school:0.049 \n==========================================================================================\nCluster 13  (315 docs)\nuniversity:0.082 he:0.082 research:0.066 professor:0.055 at:0.051 \n==========================================================================================\nCluster 14  (314 docs)\nhe:0.059 published:0.050 book:0.049 his:0.041 for:0.040 \n==========================================================================================\nCluster 15  (169 docs)\nart:0.166 museum:0.079 gallery:0.056 he:0.048 work:0.045 \n==========================================================================================\nCluster 16  (465 docs)\nfilm:0.080 he:0.069 for:0.049 as:0.041 on:0.041 \n==========================================================================================\nCluster 17  (413 docs)\nalbum:0.076 band:0.070 he:0.052 with:0.048 music:0.046 \n==========================================================================================\nCluster 18  (104 docs)\nhe:0.086 served:0.056 as:0.053 air:0.052 was:0.048 \n==========================================================================================\nCluster 19  (219 docs)\nmusic:0.125 orchestra:0.090 he:0.070 symphony:0.048 with:0.047 \n==========================================================================================\nCluster 20  (709 docs)\nshe:0.182 her:0.137 was:0.038 for:0.038 on:0.032 \n==========================================================================================\nCluster 21  (929 docs)\nhe:0.059 his:0.043 was:0.038 for:0.030 as:0.029 \n==========================================================================================\nCluster 22  (259 docs)\nhe:0.074 board:0.040 as:0.040 was:0.038 for:0.036 \n==========================================================================================\nCluster 23  (184 docs)\nhe:0.094 party:0.082 election:0.067 was:0.067 as:0.044 \n==========================================================================================\nCluster 24  (73 docs)\nhockey:0.199 nhl:0.091 season:0.088 he:0.085 league:0.075 \n==========================================================================================\n"
                }
            ],
            "source": [
                "k = 25\n",
                "visualize_document_clusters(wiki, tf_idf, all_centroids[k], all_cluster_assignment[k], k,\n",
                "                            words, display_docs=0) # turn off text for brevity"
            ]
        },
        {
            "attachments": {},
            "cell_type": "markdown",
            "metadata": {},
            "source": [
                "Looking at the representative examples and top words, we classify each cluster as follows. Notice the bolded items, which indicate the appearance of a new theme.\n",
                "* Cluster 0: **British labor party**\n",
                "* Cluster 1: **Bishops**\n",
                "* Cluster 2: **danish CEOs**\n",
                "* Cluster 3: baseball\n",
                "* Cluster 4: politicials\n",
                "* Cluster 5: **psychology researchers**\n",
                "* Cluster 6: **medical researchers**\n",
                "* Cluster 7: **republican politicians**\n",
                "* Cluster 8: football(soccer)\n",
                "* Cluster 9: **prime ministers**\n",
                "* Cluster 10: golfers\n",
                "* Cluster 11: coaches\n",
                "* Cluster 12: **lawers**\n",
                "* Cluster 13: researchers, professors\n",
                "* Cluster 14: writers\n",
                "* Cluster 15: artists, museaum workers\n",
                "* Cluster 16: film directors\n",
                "* Cluster 17: musicians\n",
                "* Cluster 18: **airforce commanders**\n",
                "* Cluster 19: orchestral musicians\n",
                "* Cluster 20: *unclear*\n",
                "* Cluster 21: *unclear*\n",
                "* Cluster 22: *unclear*\n",
                "* Cluster 23: politicians\n",
                "* Cluster 24: **hockey players**\n",
                "\n",
                "Indeed, increasing K achieved the desired effect of breaking up large clusters.  Depending on the application, this may or may not be preferable to the K=10 analysis.\n",
                "\n",
                "Let's take it to the extreme and set K=100. We have a suspicion that this value is too large. Let us look at the top words from each cluster:"
            ]
        },
        {
            "cell_type": "code",
            "execution_count": 45,
            "metadata": {},
            "outputs": [
                {
                    "name": "stdout",
                    "output_type": "stream",
                    "text": "==========================================================================================\nCluster 0  (116 docs)\nher:0.094 she:0.089 music:0.051 for:0.045 with:0.037 \n==========================================================================================\nCluster 1  (87 docs)\ncoach:0.227 head:0.084 he:0.078 football:0.058 season:0.051 \n==========================================================================================\nCluster 2  (14 docs)\ndirector:0.065 he:0.063 mr:0.058 hooker:0.050 jindal:0.050 \n==========================================================================================\nCluster 3  (67 docs)\nfootball:0.133 afl:0.122 australian:0.096 he:0.079 played:0.075 \n==========================================================================================\nCluster 4  (175 docs)\nmusic:0.139 he:0.071 his:0.051 with:0.047 for:0.043 \n==========================================================================================\nCluster 5  (102 docs)\nchampionships:0.103 world:0.072 metres:0.069 he:0.068 at:0.066 \n==========================================================================================\nCluster 6  (9 docs)\nyoga:0.236 iskcon:0.089 he:0.065 new:0.063 swami:0.062 \n==========================================================================================\nCluster 7  (33 docs)\nopera:0.317 she:0.086 at:0.049 with:0.048 la:0.047 \n==========================================================================================\nCluster 8  (110 docs)\nhe:0.081 chairman:0.069 board:0.058 was:0.047 president:0.044 \n==========================================================================================\nCluster 9  (101 docs)\nshe:0.132 her:0.077 series:0.076 miss:0.076 role:0.054 \n==========================================================================================\nCluster 10  (42 docs)\nlaw:0.292 legal:0.072 he:0.072 school:0.056 university:0.050 \n==========================================================================================\nCluster 11  (60 docs)\njapanese:0.067 he:0.063 his:0.046 war:0.042 has:0.035 \n==========================================================================================\nCluster 12  (66 docs)\nlaw:0.101 court:0.090 he:0.075 district:0.072 judge:0.071 \n==========================================================================================\nCluster 13  (50 docs)\nminister:0.114 he:0.068 finance:0.064 economics:0.062 was:0.048 \n==========================================================================================\nCluster 14  (156 docs)\nshe:0.208 her:0.061 was:0.051 for:0.048 as:0.042 \n==========================================================================================\nCluster 15  (20 docs)\nfootball:0.196 bailey:0.085 he:0.052 for:0.048 was:0.048 \n==========================================================================================\nCluster 16  (67 docs)\nsenate:0.075 he:0.073 republican:0.073 house:0.067 district:0.067 \n==========================================================================================\nCluster 17  (29 docs)\nsox:0.178 league:0.138 baseball:0.132 he:0.100 red:0.100 \n==========================================================================================\nCluster 18  (23 docs)\nbush:0.080 president:0.073 service:0.071 he:0.058 corps:0.056 \n==========================================================================================\nCluster 19  (18 docs)\nmanitoba:0.282 provincial:0.116 election:0.108 winnipeg:0.089 was:0.087 \n==========================================================================================\nCluster 20  (43 docs)\nhe:0.083 was:0.070 election:0.052 as:0.043 party:0.042 \n==========================================================================================\nCluster 21  (25 docs)\ncanadian:0.084 curling:0.078 championships:0.071 ontario:0.068 rink:0.055 \n==========================================================================================\nCluster 22  (65 docs)\nhe:0.076 his:0.050 was:0.047 hall:0.035 at:0.035 \n==========================================================================================\nCluster 23  (136 docs)\nband:0.143 he:0.062 album:0.058 with:0.052 bands:0.043 \n==========================================================================================\nCluster 24  (438 docs)\nhe:0.057 his:0.039 for:0.034 was:0.031 as:0.029 \n==========================================================================================\nCluster 25  (161 docs)\nhe:0.099 league:0.080 rugby:0.078 cup:0.069 for:0.065 \n==========================================================================================\nCluster 26  (37 docs)\ncomedy:0.124 show:0.079 he:0.073 standup:0.057 comedian:0.049 \n==========================================================================================\nCluster 27  (27 docs)\nwas:0.059 he:0.055 court:0.050 murder:0.041 that:0.039 \n==========================================================================================\nCluster 28  (62 docs)\nchurch:0.172 bishop:0.120 he:0.088 lds:0.060 was:0.059 \n==========================================================================================\nCluster 29  (61 docs)\nhockey:0.242 nhl:0.112 season:0.080 ice:0.079 he:0.075 \n==========================================================================================\nCluster 30  (33 docs)\nhealth:0.197 he:0.077 medical:0.058 medicine:0.053 hospital:0.048 \n==========================================================================================\nCluster 31  (77 docs)\ndesign:0.082 for:0.058 he:0.052 animation:0.046 his:0.040 \n==========================================================================================\nCluster 32  (22 docs)\narmy:0.135 singh:0.083 he:0.072 general:0.069 military:0.064 \n==========================================================================================\nCluster 33  (44 docs)\npoetry:0.217 poems:0.112 poet:0.070 published:0.064 she:0.057 \n==========================================================================================\nCluster 34  (31 docs)\nhe:0.061 bank:0.055 dublin:0.050 was:0.045 irish:0.042 \n==========================================================================================\nCluster 35  (48 docs)\nhe:0.057 his:0.054 that:0.048 was:0.048 for:0.036 \n==========================================================================================\nCluster 36  (13 docs)\ntriathlon:0.113 olympics:0.072 he:0.059 world:0.057 competed:0.056 \n==========================================================================================\nCluster 37  (97 docs)\nleague:0.142 baseball:0.128 he:0.104 major:0.079 season:0.077 \n==========================================================================================\nCluster 38  (27 docs)\nhe:0.086 chef:0.072 his:0.069 leslie:0.046 was:0.036 \n==========================================================================================\nCluster 39  (29 docs)\nchess:0.245 open:0.093 he:0.079 grandmaster:0.055 championship:0.050 \n==========================================================================================\nCluster 40  (22 docs)\nbillion:0.056 he:0.043 china:0.040 saudi:0.034 business:0.033 \n==========================================================================================\nCluster 41  (3 docs)\npiatt:0.233 weather:0.190 fiber:0.101 tampa:0.100 them:0.095 \n==========================================================================================\nCluster 42  (45 docs)\norchestra:0.119 music:0.114 chamber:0.104 he:0.060 symphony:0.054 \n==========================================================================================\nCluster 43  (30 docs)\npiano:0.209 music:0.073 orchestra:0.071 he:0.068 symphony:0.066 \n==========================================================================================\nCluster 44  (15 docs)\nrabbi:0.217 jewish:0.089 he:0.068 green:0.066 religious:0.052 \n==========================================================================================\nCluster 45  (37 docs)\nassembly:0.082 jersey:0.075 he:0.070 state:0.060 votes:0.054 \n==========================================================================================\nCluster 46  (14 docs)\nsoftware:0.081 he:0.076 his:0.046 computational:0.044 zend:0.043 \n==========================================================================================\nCluster 47  (15 docs)\nscott:0.157 he:0.051 mcclure:0.049 pooh:0.048 2003s2003:0.044 \n==========================================================================================\nCluster 48  (23 docs)\nguitar:0.134 duncan:0.059 he:0.053 with:0.043 band:0.040 \n==========================================================================================\nCluster 49  (63 docs)\nphysics:0.086 he:0.073 research:0.058 university:0.049 engineering:0.048 \n==========================================================================================\nCluster 50  (89 docs)\nresearch:0.082 science:0.072 university:0.072 he:0.067 chemistry:0.052 \n==========================================================================================\nCluster 51  (1 docs)\ntodori:0.629 ivica:0.349 agrokor:0.279 croatian:0.150 zagreb:0.146 \n==========================================================================================\nCluster 52  (252 docs)\nuniversity:0.086 he:0.083 research:0.053 at:0.053 professor:0.050 \n==========================================================================================\nCluster 53  (44 docs)\nnfl:0.156 yards:0.142 football:0.125 he:0.081 for:0.062 \n==========================================================================================\nCluster 54  (61 docs)\nart:0.160 her:0.069 she:0.065 work:0.047 artist:0.042 \n==========================================================================================\nCluster 55  (51 docs)\ngovernor:0.106 election:0.078 he:0.073 party:0.072 was:0.058 \n==========================================================================================\nCluster 56  (6 docs)\nkeith:0.190 acappella:0.122 willis:0.098 scharf:0.064 linux:0.060 \n==========================================================================================\nCluster 57  (51 docs)\ntheatre:0.220 play:0.050 directed:0.050 at:0.049 for:0.048 \n==========================================================================================\nCluster 58  (7 docs)\nski:0.344 popangelov:0.087 alhajuj:0.073 bulgarian:0.071 winter:0.071 \n==========================================================================================\nCluster 59  (38 docs)\nhe:0.084 for:0.046 his:0.046 league:0.045 baseball:0.043 \n==========================================================================================\nCluster 60  (169 docs)\nhe:0.102 was:0.062 as:0.050 from:0.042 for:0.036 \n==========================================================================================\nCluster 61  (49 docs)\njazz:0.225 he:0.069 with:0.062 his:0.047 music:0.046 \n==========================================================================================\nCluster 62  (31 docs)\ncampaign:0.096 he:0.050 for:0.044 was:0.043 as:0.040 \n==========================================================================================\nCluster 63  (94 docs)\nart:0.182 museum:0.111 gallery:0.071 he:0.059 his:0.056 \n==========================================================================================\nCluster 64  (13 docs)\nrt:0.138 irish:0.102 radio:0.086 he:0.068 bridgeman:0.061 \n==========================================================================================\nCluster 65  (2 docs)\nruiz:0.263 hjuler:0.201 baer:0.181 mama:0.176 kommissar:0.134 \n==========================================================================================\nCluster 66  (45 docs)\nhe:0.082 justice:0.066 was:0.047 turkish:0.040 as:0.039 \n==========================================================================================\nCluster 67  (33 docs)\norchestra:0.253 conductor:0.138 symphony:0.121 music:0.115 philharmonic:0.104 \n==========================================================================================\nCluster 68  (35 docs)\nmedicine:0.094 cancer:0.091 medical:0.088 research:0.081 clinical:0.068 \n==========================================================================================\nCluster 69  (20 docs)\nbuddhist:0.094 oxford:0.079 tibetan:0.071 he:0.062 buddhism:0.052 \n==========================================================================================\nCluster 70  (5 docs)\nforsberg:0.085 tv:0.083 hearing:0.080 voice:0.076 reffett:0.076 \n==========================================================================================\nCluster 71  (21 docs)\nmayor:0.081 councillor:0.079 committee:0.070 he:0.068 council:0.061 \n==========================================================================================\nCluster 72  (20 docs)\ncomic:0.114 comics:0.087 san:0.060 francisco:0.057 he:0.056 \n==========================================================================================\nCluster 73  (10 docs)\npoker:0.535 wsop:0.179 event:0.153 limit:0.117 tournament:0.100 \n==========================================================================================\nCluster 74  (64 docs)\nbasketball:0.167 nba:0.105 points:0.085 he:0.080 player:0.064 \n==========================================================================================\nCluster 75  (14 docs)\nshe:0.262 baseball:0.208 her:0.155 girls:0.134 league:0.134 \n==========================================================================================\nCluster 76  (9 docs)\nirving:0.083 publishing:0.075 bonnycastle:0.074 dick:0.066 nyholm:0.065 \n==========================================================================================\nCluster 77  (64 docs)\nwas:0.069 he:0.064 prison:0.051 on:0.044 charges:0.043 \n==========================================================================================\nCluster 78  (154 docs)\nhe:0.103 club:0.068 team:0.065 season:0.062 football:0.059 \n==========================================================================================\nCluster 79  (30 docs)\ngerman:0.126 he:0.118 his:0.056 was:0.047 germany:0.045 \n==========================================================================================\nCluster 80  (212 docs)\nshe:0.238 her:0.141 at:0.041 was:0.040 with:0.035 \n==========================================================================================\nCluster 81  (6 docs)\nhearst:0.125 leech:0.118 meter:0.107 hurdles:0.090 martel:0.088 \n==========================================================================================\nCluster 82  (127 docs)\nher:0.217 she:0.141 was:0.041 for:0.037 on:0.031 \n==========================================================================================\nCluster 83  (64 docs)\nracing:0.135 championship:0.083 he:0.082 race:0.074 car:0.074 \n==========================================================================================\nCluster 84  (150 docs)\nfilm:0.202 films:0.060 he:0.053 festival:0.049 for:0.044 \n==========================================================================================\nCluster 85  (27 docs)\nvoice:0.088 series:0.070 he:0.063 television:0.051 actor:0.047 \n==========================================================================================\nCluster 86  (78 docs)\nminister:0.135 party:0.091 election:0.077 liberal:0.075 was:0.071 \n==========================================================================================\nCluster 87  (11 docs)\nhe:0.067 guest:0.060 elevator:0.056 film:0.054 television:0.053 \n==========================================================================================\nCluster 88  (30 docs)\nwrestling:0.082 hop:0.073 hip:0.072 he:0.063 wwe:0.058 \n==========================================================================================\nCluster 89  (27 docs)\nsong:0.214 eurovision:0.096 contest:0.063 she:0.048 album:0.041 \n==========================================================================================\nCluster 90  (148 docs)\nalbum:0.143 released:0.068 her:0.051 music:0.051 on:0.047 \n==========================================================================================\nCluster 91  (25 docs)\nair:0.219 force:0.106 commander:0.090 command:0.087 naval:0.075 \n==========================================================================================\nCluster 92  (140 docs)\nnovel:0.073 published:0.064 book:0.059 fiction:0.045 her:0.041 \n==========================================================================================\nCluster 93  (100 docs)\nhe:0.087 news:0.086 for:0.058 on:0.046 new:0.044 \n==========================================================================================\nCluster 94  (18 docs)\nparish:0.145 he:0.055 was:0.045 his:0.039 greenberg:0.038 \n==========================================================================================\nCluster 95  (22 docs)\nleague:0.142 runs:0.116 baseball:0.093 yankees:0.089 he:0.081 \n==========================================================================================\nCluster 96  (86 docs)\nradio:0.123 show:0.088 he:0.076 on:0.062 his:0.045 \n==========================================================================================\nCluster 97  (14 docs)\nrao:0.113 film:0.087 he:0.074 indian:0.072 telugu:0.071 \n==========================================================================================\nCluster 98  (43 docs)\ntour:0.325 pga:0.258 golf:0.134 he:0.116 his:0.086 \n==========================================================================================\nCluster 99  (9 docs)\ntheory:0.099 relativity:0.085 that:0.075 ortiz:0.065 he:0.062 \n==========================================================================================\n"
                }
            ],
            "source": [
                "k = 100\n",
                "visualize_document_clusters(wiki, tf_idf, all_centroids[k], all_cluster_assignment[k], k,\n",
                "                            words, display_docs=0)"
            ]
        },
        {
            "attachments": {},
            "cell_type": "markdown",
            "metadata": {},
            "source": [
                "**A high value of K encourages pure clusters, but we cannot keep increasing K. For large enough K, related documents end up going to different clusters.**\n",
                "\n",
                "That said, the result for K=100 is not entirely bad. After all, it gives us separate clusters for such categories as Scotland, Brazil, LGBT, computer science and the Mormon Church. If we set K somewhere between 25 and 100, we should be able to avoid breaking up clusters while discovering new ones.\n",
                "\n",
                "Also, we should ask ourselves how much **granularity** we want in our clustering. If we wanted a rough sketch of Wikipedia, we don't want too detailed clusters. On the other hand, having many clusters can be valuable when we are zooming into a certain part of Wikipedia.\n",
                "\n",
                "**There is no golden rule for choosing K. It all depends on the particular application and domain we are in.**\n",
                "\n",
                "Another heuristic people use that does not rely on so much visualization, which can be hard in many applications (including here!) is as follows.  Track heterogeneity versus K and look for the \"elbow\" of the curve where the heterogeneity decrease rapidly before this value of K, but then only gradually for larger values of K.  This naturally trades off between trying to minimize heterogeneity, but reduce model complexity.  In the heterogeneity versus K plot made above, we did not yet really see a flattening out of the heterogeneity, which might indicate that indeed K=100 is \"reasonable\" and we only see real overfitting for larger values of K (which are even harder to visualize using the methods we attempted above.)"
            ]
        },
        {
            "attachments": {},
            "cell_type": "markdown",
            "metadata": {},
            "source": [
                "## 🔍 **Question 8** Small clusters\n",
                "\n",
                "Another sign of too large K is having lots of small clusters. Look at the distribution of cluster sizes (by number of member data points). When doing k-means with k=100, how many of the clusters have fewer than 44 articles (i.e. 0.004% of the dataset)?\n",
                "\n",
                "Save your result in a variable called `num_small_clustesrs`\n",
                ""
            ]
        },
        {
            "cell_type": "code",
            "execution_count": 49,
            "metadata": {},
            "outputs": [],
            "source": [
                "### edTest(test_q8_small_clusters) ###\n",
                "\n",
                "# TODO count clusters with fewer than 44 articles\n",
                "assignment = all_cluster_assignment[100]\n",
                "count = 0\n",
                "for i in np.arange(100):\n",
                "    if len(assignment[assignment == i]) \u003c 44:\n",
                "        count = count + 1\n",
                "num_small_clusters = count"
            ]
        },
        {
            "attachments": {},
            "cell_type": "markdown",
            "metadata": {},
            "source": [
                "Keep in mind though that tiny clusters aren't necessarily bad. A tiny cluster of documents that really look like each others is definitely preferable to a medium-sized cluster of documents with mixed content. However, having too few articles in a cluster may lead us to question if that cluster is really worth separating from the others."
            ]
        }
    ]
}
